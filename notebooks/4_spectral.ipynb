{
 "cells": [
  {
   "attachments": {},
   "cell_type": "markdown",
   "metadata": {},
   "source": [
    "# Spectral analyses"
   ]
  },
  {
   "attachments": {},
   "cell_type": "markdown",
   "metadata": {},
   "source": [
    "## Introductory notes:\n",
    "This notebook presents spectral analyses functionality:\n",
    "* Power spectral density (PSD) per sleep stage\n",
    "* Spectrogram & hypnogram\n",
    "* Topomaps for the spectra per sleep stage\n",
    "* Spectral parametrization with FOOOF\n",
    "* Additional results such as sleep statistics.\n",
    "\n",
    "Recommended watching and reading:\n",
    "1. [Mike X Cohen: Static spectral analysis](https://youtube.com/playlist?list=PLn0OLiymPak2jxGCbWrcgmXUtt9Lbjj_A)\n",
    "2. [MNE: The Spectrum and EpochsSpectrum classes: frequency-domain data](https://mne.tools/stable/auto_tutorials/time-freq/10_spectrum_class.html#)\n",
    "3. [FOOOF: Tutorials](https://fooof-tools.github.io/fooof/auto_tutorials/index.html)\n",
    "4. [MNE: SpectrumArray class](https://mne.tools/stable/generated/mne.time_frequency.SpectrumArray.html)"
   ]
  },
  {
   "attachments": {},
   "cell_type": "markdown",
   "metadata": {},
   "source": [
    "## Import data"
   ]
  },
  {
   "attachments": {},
   "cell_type": "markdown",
   "metadata": {},
   "source": [
    "### Import module"
   ]
  },
  {
   "cell_type": "code",
   "execution_count": null,
   "metadata": {
    "ExecuteTime": {
     "end_time": "2024-08-06T10:28:51.815149Z",
     "start_time": "2024-08-06T10:28:50.805578Z"
    }
   },
   "outputs": [],
   "source": [
    "from sleepeegpy.pipeline import SpectralPipe\n",
    "from os import makedirs, path"
   ]
  },
  {
   "cell_type": "markdown",
   "metadata": {},
   "source": [
    "By default, all the input files are assumed to be saved in <b>input_files</b>, which will be created (if not already exists) in the notebook path.\n",
    "Change the following string to use another path"
   ]
  },
  {
   "cell_type": "code",
   "execution_count": null,
   "metadata": {
    "ExecuteTime": {
     "end_time": "2024-08-06T10:28:56.171331Z",
     "start_time": "2024-08-06T10:28:56.167805Z"
    }
   },
   "outputs": [],
   "source": [
    "output_dir = \"output_folder\"  # Output path and name can be changed here\n",
    "input_dir = \"input_files\"  # input files dir can be changed here\n",
    "makedirs(input_dir, exist_ok=True)\n",
    "makedirs(output_dir, exist_ok=True)"
   ]
  },
  {
   "cell_type": "markdown",
   "metadata": {},
   "source": [
    "#### Add required files\n",
    "* Put all your files in the input folder.\n",
    "* Modify your eeg file name below. The file can be any format supported by the mne.read_raw() function.\n",
    "* Modify your hypnogram file name (Point-per-row type of hypnogram) below.\n",
    "* If needed, change Hypnogram's sampling frequency \n",
    "* For more information about the supported formats, see [mne documentation](https://mne.tools/stable/generated/mne.io.Raw.html)"
   ]
  },
  {
   "cell_type": "code",
   "execution_count": null,
   "metadata": {
    "ExecuteTime": {
     "end_time": "2024-08-06T10:28:57.628705Z",
     "start_time": "2024-08-06T10:28:57.625830Z"
    }
   },
   "outputs": [],
   "source": [
    "eeg_file_name = \"resampled_raw.fif\"  # add your eeg_path here\n",
    "hypnogram_filename = \"staging.txt\"  # Point-per-row type of hypnogram.\n",
    "hypno_freq = 1  # If required, change Hypnogram's sampling frequency (visbrain's hypnograms default to 1)"
   ]
  },
  {
   "attachments": {},
   "cell_type": "markdown",
   "metadata": {},
   "source": [
    "### Initialize SpectralPipe object"
   ]
  },
  {
   "cell_type": "code",
   "execution_count": null,
   "metadata": {
    "ExecuteTime": {
     "end_time": "2024-08-06T10:29:02.254784Z",
     "start_time": "2024-08-06T10:28:59.465933Z"
    }
   },
   "outputs": [],
   "source": [
    "path_to_eeg = path.join(input_dir, eeg_file_name)\n",
    "hypnogram_path = path.join(input_dir, hypnogram_filename)\n",
    "assert path.isfile(path_to_eeg) and path.isfile(\n",
    "    hypnogram_path\n",
    "), f\"{path_to_eeg} or {hypnogram_path} not exist\"\n",
    "\n",
    "spectral_pipe = SpectralPipe(\n",
    "    path_to_eeg=path_to_eeg,\n",
    "    output_dir=output_dir,\n",
    "    path_to_hypno=hypnogram_path,\n",
    "    hypno_freq=hypno_freq,\n",
    ")"
   ]
  },
  {
   "attachments": {},
   "cell_type": "markdown",
   "metadata": {},
   "source": [
    "## Compute PSD"
   ]
  },
  {
   "cell_type": "code",
   "execution_count": null,
   "metadata": {
    "ExecuteTime": {
     "end_time": "2024-08-06T10:29:06.378672Z",
     "start_time": "2024-08-06T10:29:05.034643Z"
    }
   },
   "outputs": [],
   "source": [
    "spectral_pipe.compute_psd(\n",
    "    # A dict describing stages and their indices in the hypnogram file.\n",
    "    sleep_stages={\"Wake\": 0, \"N1\": 1, \"N2\": 2, \"N3\": 3, \"REM\": 4},\n",
    "    # Rereferencing to apply. Can be list of str channels or \"average\".\n",
    "    # If None, will not change the reference.\n",
    "    reference=\"average\",\n",
    "    fmin=0,  # Lower frequency bound.\n",
    "    fmax=60,  # Upper frequency bound.\n",
    "    picks=\"eeg\",  # Channels to compute the PSD for.\n",
    "    reject_by_annotation=True,  # Whether to reject epochs annotated as BAD.\n",
    "    save=True,  # Whether to save the PSD hdf5 file for each sleep stage.\n",
    "    overwrite=True,  # Whether to overwrite hdf5 files if there are any.\n",
    "    # Additional arguments passed to the PSD computing method, i.e., welch or multitaper:\n",
    "    n_fft=1024,\n",
    "    n_per_seg=1024,\n",
    "    n_overlap=512,\n",
    "    window=\"hamming\",\n",
    "    n_jobs=-1,\n",
    "    verbose=False,\n",
    ")"
   ]
  },
  {
   "cell_type": "code",
   "execution_count": null,
   "metadata": {
    "ExecuteTime": {
     "end_time": "2024-08-06T10:29:15.088131Z",
     "start_time": "2024-08-06T10:29:15.076810Z"
    }
   },
   "outputs": [],
   "source": [
    "spectral_pipe.psds[\"REM\"].get_data()"
   ]
  },
  {
   "cell_type": "code",
   "execution_count": null,
   "metadata": {
    "ExecuteTime": {
     "end_time": "2024-08-06T10:29:16.408054Z",
     "start_time": "2024-08-06T10:29:16.395687Z"
    }
   },
   "outputs": [],
   "source": [
    "spectral_pipe.psds[\"REM\"].to_data_frame()"
   ]
  },
  {
   "cell_type": "markdown",
   "metadata": {},
   "source": [
    "## Visualize"
   ]
  },
  {
   "cell_type": "markdown",
   "metadata": {},
   "source": [
    "### PSD"
   ]
  },
  {
   "cell_type": "code",
   "execution_count": null,
   "metadata": {
    "ExecuteTime": {
     "end_time": "2024-08-06T10:29:32.649177Z",
     "start_time": "2024-08-06T10:29:32.385803Z"
    }
   },
   "outputs": [],
   "source": [
    "spectral_pipe.plot_psds(\n",
    "    picks=[\"E101\"],\n",
    "    psd_range=(-20, 30),  # Y axis limits\n",
    "    freq_range=(0, 40),  # X axis limits\n",
    "    dB=True,\n",
    "    xscale=\"linear\",  # Matplotlib xscale. Can be {\"linear\", \"log\", \"symlog\", \"logit\", ...} or ScaleBase\n",
    "    axis=None,\n",
    "    plot_sensors=True,  # Whether to plot EEG sensors showing which channels were used to compute PSD.\n",
    "    save=True,  # Whether to save the plot as a png file.\n",
    ")"
   ]
  },
  {
   "cell_type": "code",
   "execution_count": null,
   "metadata": {
    "ExecuteTime": {
     "end_time": "2024-08-06T10:29:34.980098Z",
     "start_time": "2024-08-06T10:29:34.965202Z"
    }
   },
   "outputs": [],
   "source": [
    "_ = spectral_pipe.psds[\"N2\"].plot(picks=\"data\", exclude=\"bads\", show=False)"
   ]
  },
  {
   "attachments": {},
   "cell_type": "markdown",
   "metadata": {},
   "source": [
    "### Hypnogram & spectrogram"
   ]
  },
  {
   "cell_type": "code",
   "execution_count": null,
   "metadata": {
    "ExecuteTime": {
     "end_time": "2024-08-06T10:29:38.113143Z",
     "start_time": "2024-08-06T10:29:37.702537Z"
    }
   },
   "outputs": [],
   "source": [
    "spectral_pipe.plot_hypnospectrogram(\n",
    "    picks=[\"E101\"],  # Channel[s] to compute the spectrogram on.\n",
    "    win_sec=10,  # The length of the sliding window, in seconds, used for multitaper PSD computation.\n",
    "    freq_range=(0, 40),  # Y axis limits\n",
    "    cmap=\"Spectral_r\",  # Matplotlib colormap as in https://matplotlib.org/stable/tutorials/colors/colormaps.html\n",
    "    overlap=True,  # Whether to plot hypnogram over spectrogram (True) or on top of it (False)\n",
    "    save=True,  # Whether to save the plot as a file.\n",
    ")"
   ]
  },
  {
   "attachments": {},
   "cell_type": "markdown",
   "metadata": {},
   "source": [
    "### Topomap\n",
    "\n",
    "Plots a topomap for a single sleep stage and frequency band"
   ]
  },
  {
   "cell_type": "code",
   "execution_count": null,
   "metadata": {
    "ExecuteTime": {
     "end_time": "2024-08-06T10:29:39.832964Z",
     "start_time": "2024-08-06T10:29:39.740039Z"
    }
   },
   "outputs": [],
   "source": [
    "spectral_pipe.plot_topomap(\n",
    "    stage=\"N2\",  # Stage to plot topomap for.\n",
    "    band={\"SMR\": (12.5, 15)},  # Band to plot topomap for.\n",
    "    # Should contain at least index of the provided \"stage\".\n",
    "    dB=False,  # Whether to transform PSD to dB/Hz\n",
    "    axis=None,  # Whether to plot on provided matplotlib axis.\n",
    "    save=True,  # Whether to save the plot as a file.\n",
    "    topomap_args=dict(cmap=\"plasma\"),  # Arguments passed to mne.viz.plot_topomap().\n",
    "    cbar_args=None,  # Arguments passed to plt.colorbar().\n",
    ")"
   ]
  },
  {
   "attachments": {},
   "cell_type": "markdown",
   "metadata": {},
   "source": [
    "### Topomap collage\n",
    "Plot topomaps for multiple bands and sleep stages"
   ]
  },
  {
   "cell_type": "code",
   "execution_count": null,
   "metadata": {
    "ExecuteTime": {
     "end_time": "2024-08-06T10:29:43.025983Z",
     "start_time": "2024-08-06T10:29:41.887685Z"
    }
   },
   "outputs": [],
   "source": [
    "spectral_pipe.plot_topomap_collage(\n",
    "    #  Bands to plot topomaps for.\n",
    "    bands={\n",
    "        \"Delta\": (0, 4),\n",
    "        \"Theta\": (4, 8),\n",
    "        \"Alpha\": (8, 12.5),\n",
    "        \"SMR\": (12.5, 15),\n",
    "        \"Beta\": (12.5, 30),\n",
    "        \"Gamma\": (30, 60),\n",
    "    },\n",
    "    # Tuple of strs or \"all\", e.g., (\"N1\", \"REM\") or \"all\" (plots all \"sleep_stages\").\n",
    "    stages_to_plot=\"all\",\n",
    "    dB=False,  # Whether to transform PSD to dB/Hz.\n",
    "    low_percentile=5,  # Set min color value by percentile of the band data.\n",
    "    high_percentile=95,  # Set max color value by percentile of the band data.\n",
    "    fig=None,  # Instance of plt.Figure, a new fig will be created if None.\n",
    "    save=True,  # Whether to save the plot as a file.\n",
    "    topomap_args=dict(cmap=\"plasma\"),  # Arguments passed to mne.viz.plot_topomap().\n",
    "    cbar_args=None,  # Arguments passed to plt.colorbar().\n",
    ")"
   ]
  },
  {
   "cell_type": "markdown",
   "metadata": {},
   "source": [
    "## Parametrize spectrum"
   ]
  },
  {
   "cell_type": "code",
   "execution_count": null,
   "metadata": {
    "ExecuteTime": {
     "end_time": "2024-08-06T10:57:48.911059Z",
     "start_time": "2024-08-06T10:29:44.421381Z"
    }
   },
   "outputs": [],
   "source": [
    "spectral_pipe.parametrize(\n",
    "    picks=[\"eeg\"],  # Channels to use.\n",
    "    freq_range=[0.5, 60],  # Range of frequencies to parametrize.\n",
    "    # Whether to average psds over channels.\n",
    "    # If False or multiple channels are provided, the FOOOFGroup will be used.\n",
    "    # Defaults to False.\n",
    "    average_ch=False,\n",
    ")"
   ]
  },
  {
   "cell_type": "code",
   "execution_count": null,
   "metadata": {},
   "outputs": [],
   "source": [
    "spectral_pipe.fooofs[\"N2\"].report()"
   ]
  },
  {
   "attachments": {},
   "cell_type": "markdown",
   "metadata": {},
   "source": [
    "## Sleep Stats"
   ]
  },
  {
   "cell_type": "code",
   "execution_count": null,
   "metadata": {},
   "outputs": [],
   "source": [
    "spectral_pipe.sleep_stats(save=False)"
   ]
  }
 ],
 "metadata": {
  "kernelspec": {
   "display_name": "Python 3",
   "language": "python",
   "name": "python3"
  },
  "language_info": {
   "codemirror_mode": {
    "name": "ipython",
    "version": 3
   },
   "file_extension": ".py",
   "mimetype": "text/x-python",
   "name": "python",
   "nbconvert_exporter": "python",
   "pygments_lexer": "ipython3",
   "version": "3.11.8"
  },
  "vscode": {
   "interpreter": {
    "hash": "e7e6a3ad0af7de53e72789e0b82b3fd5c64743c0f9fcf843fd4113b6e74b9b71"
   }
  }
 },
 "nbformat": 4,
 "nbformat_minor": 4
}
