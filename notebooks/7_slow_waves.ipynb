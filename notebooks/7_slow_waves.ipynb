{
 "cells": [
  {
   "attachments": {},
   "cell_type": "markdown",
   "metadata": {},
   "source": [
    "# Slow waves analysis"
   ]
  },
  {
   "attachments": {},
   "cell_type": "markdown",
   "metadata": {},
   "source": [
    "## Introductory notes:\n",
    "This notebook presents slow waves detection functionality.\n",
    "\n",
    "Recommended reading:\n",
    "1. [YASA: FAQ](https://raphaelvallat.com/yasa/build/html/faq.html#event-detection)\n",
    "2. [YASA: Slow-waves detection](https://github.com/raphaelvallat/yasa/blob/master/notebooks/05_sw_detection.ipynb)\n",
    "3. [YASA: Multi-channel slow-wave detection](https://github.com/raphaelvallat/yasa/blob/master/notebooks/06_sw_detection_multi.ipynb)\n",
    "4. [YASA: SWResults class](https://raphaelvallat.com/yasa/build/html/generated/yasa.SWResults.html#yasa-swresults)\n",
    "5. [MNE: Time-frequency analysis: power and inter-trial coherence](https://mne.tools/stable/auto_tutorials/time-freq/20_sensors_time_frequency.html#time-frequency-analysis-power-and-inter-trial-coherence)\n",
    "6. [MNE: AverageTFR class](https://mne.tools/stable/generated/mne.time_frequency.AverageTFR.html#mne-time-frequency-averagetfr)"
   ]
  },
  {
   "attachments": {},
   "cell_type": "markdown",
   "metadata": {},
   "source": [
    "## Import module"
   ]
  },
  {
   "cell_type": "code",
   "metadata": {
    "ExecuteTime": {
     "end_time": "2024-08-06T08:00:43.144666Z",
     "start_time": "2024-08-06T08:00:41.978518Z"
    }
   },
   "source": [
    "from sleepeegpy.pipeline import SlowWavesPipe\n",
    "from joblib import parallel_backend; parallel_backend(\"loky\", n_jobs=-1)\n",
    "from os import makedirs,path"
   ],
   "outputs": [],
   "execution_count": 1
  },
  {
   "attachments": {},
   "cell_type": "markdown",
   "metadata": {},
   "source": [
    "## Slow waves detection"
   ]
  },
  {
   "metadata": {},
   "cell_type": "markdown",
   "source": [
    "If you wish to change the path for output_dir ot input dir, change it below.\n",
    "If no such folders, they will be created automatically."
   ]
  },
  {
   "metadata": {
    "ExecuteTime": {
     "end_time": "2024-08-06T08:00:46.741183Z",
     "start_time": "2024-08-06T08:00:46.738557Z"
    }
   },
   "cell_type": "code",
   "source": [
    "output_dir  = \"output_folder\" # Output path and name can be changed here\n",
    "input_dir = \"input_files\" # input files dir can be changed here\n",
    "makedirs(input_dir, exist_ok=True)\n",
    "makedirs(output_dir, exist_ok=True)"
   ],
   "outputs": [],
   "execution_count": 2
  },
  {
   "metadata": {},
   "cell_type": "markdown",
   "source": [
    "#### Add required files and data\n",
    "* Put all your files in the input folder.\n",
    "* Modify your eeg file name below. The file can be any format supported by the mne.read_raw() function.\n",
    "* Modify your hypnogram file name below\n",
    "* Make sure the hypno_freq is the right frequency.\n",
    "* For more information about the supported formats, see [mne documentation](https://mne.tools/stable/generated/mne.io.Raw.html)"
   ]
  },
  {
   "metadata": {
    "ExecuteTime": {
     "end_time": "2024-08-06T08:00:47.978976Z",
     "start_time": "2024-08-06T08:00:47.975097Z"
    }
   },
   "cell_type": "code",
   "source": [
    "eeg_file_name= \"resampled_raw.fif\" #None # add your eeg_path here\n",
    "hypnogram_filename = \"staging.txt\" # Hypnogram filename can be changed here (file must be in the input dir)\n",
    "hypno_freq = 1"
   ],
   "outputs": [],
   "execution_count": 3
  },
  {
   "cell_type": "code",
   "metadata": {
    "ExecuteTime": {
     "end_time": "2024-08-06T08:00:51.738952Z",
     "start_time": "2024-08-06T08:00:48.968998Z"
    }
   },
   "source": [
    "path_to_eeg = path.join(input_dir,eeg_file_name)\n",
    "hypnogram_path = path.join(input_dir,hypnogram_filename)\n",
    "\n",
    "assert path.isfile(path_to_eeg) and path.isfile(hypnogram_path), f\"{path_to_eeg} or {hypnogram_path} not exist\"\n",
    "slow_waves_pipe = SlowWavesPipe(\n",
    "    path_to_eeg=path_to_eeg,\n",
    "    output_dir=output_dir,\n",
    "    path_to_hypno=hypnogram_path,\n",
    "    hypno_freq=hypno_freq,\n",
    ")"
   ],
   "outputs": [
    {
     "name": "stdout",
     "output_type": "stream",
     "text": [
      "Opening raw data file input_files/resampled_raw.fif...\n",
      "    Range : 0 ... 1994499 =      0.000 ...  7977.996 secs\n",
      "Ready.\n",
      "Opening raw data file /Users/yardenmezi/Desktop/myProjects/sleeping_lab/repos/sleepeegpy/notebooks/input_files/resampled_raw-1.fif...\n",
      "    Range : 1994500 ... 3988999 =   7978.000 ... 15955.996 secs\n",
      "Ready.\n",
      "Opening raw data file /Users/yardenmezi/Desktop/myProjects/sleeping_lab/repos/sleepeegpy/notebooks/input_files/resampled_raw-2.fif...\n",
      "    Range : 3989000 ... 5983499 =  15956.000 ... 23933.996 secs\n",
      "Ready.\n",
      "Opening raw data file /Users/yardenmezi/Desktop/myProjects/sleeping_lab/repos/sleepeegpy/notebooks/input_files/resampled_raw-3.fif...\n",
      "    Range : 5983500 ... 5985607 =  23934.000 ... 23942.428 secs\n",
      "Ready.\n"
     ]
    },
    {
     "name": "stderr",
     "output_type": "stream",
     "text": [
      "Hypnogram is LONGER than data by 23882.0 seconds. Cropping hypnogram to match data.size.\n"
     ]
    }
   ],
   "execution_count": 4
  },
  {
   "attachments": {},
   "cell_type": "markdown",
   "metadata": {},
   "source": [
    "Please refer to the YASA's [documentation](https://raphaelvallat.com/yasa/build/html/generated/yasa.sw_detect.html) for details about the arguments."
   ]
  },
  {
   "cell_type": "code",
   "metadata": {
    "ExecuteTime": {
     "end_time": "2024-08-06T08:00:57.128636Z",
     "start_time": "2024-08-06T08:00:54.279879Z"
    }
   },
   "source": [
    "slow_waves_pipe.detect(\n",
    "    picks=[\"eeg\"],\n",
    "    reference=\"average\",\n",
    "    include=(2, 3),\n",
    "    freq_sw=(0.3, 1.5),\n",
    "    dur_neg=(0.3, 1.5),\n",
    "    dur_pos=(0.1, 1),\n",
    "    amp_neg=(40, 200),\n",
    "    amp_pos=(10, 150),\n",
    "    amp_ptp=(75, 350),\n",
    "    coupling=False,\n",
    "    coupling_params={\"freq_sp\": (12, 16), \"p\": 0.05, \"time\": 1},\n",
    "    remove_outliers=False,\n",
    "    verbose=False,\n",
    "    save=True,\n",
    ")"
   ],
   "outputs": [
    {
     "name": "stdout",
     "output_type": "stream",
     "text": [
      "Reading 0 ... 15000  =      0.000 ...    60.000 secs...\n",
      "EEG channel type selected for re-referencing\n",
      "Applying average reference.\n",
      "Applying a custom ('EEG',) reference.\n"
     ]
    },
    {
     "ename": "AssertionError",
     "evalue": "None of the stages specified in `include` are present in hypno.",
     "output_type": "error",
     "traceback": [
      "\u001B[0;31m---------------------------------------------------------------------------\u001B[0m",
      "\u001B[0;31mAssertionError\u001B[0m                            Traceback (most recent call last)",
      "Cell \u001B[0;32mIn[5], line 1\u001B[0m\n\u001B[0;32m----> 1\u001B[0m slow_waves_pipe\u001B[38;5;241m.\u001B[39mdetect(\n\u001B[1;32m      2\u001B[0m     picks\u001B[38;5;241m=\u001B[39m[\u001B[38;5;124m\"\u001B[39m\u001B[38;5;124meeg\u001B[39m\u001B[38;5;124m\"\u001B[39m],\n\u001B[1;32m      3\u001B[0m     reference\u001B[38;5;241m=\u001B[39m\u001B[38;5;124m\"\u001B[39m\u001B[38;5;124maverage\u001B[39m\u001B[38;5;124m\"\u001B[39m,\n\u001B[1;32m      4\u001B[0m     include\u001B[38;5;241m=\u001B[39m(\u001B[38;5;241m2\u001B[39m, \u001B[38;5;241m3\u001B[39m),\n\u001B[1;32m      5\u001B[0m     freq_sw\u001B[38;5;241m=\u001B[39m(\u001B[38;5;241m0.3\u001B[39m, \u001B[38;5;241m1.5\u001B[39m),\n\u001B[1;32m      6\u001B[0m     dur_neg\u001B[38;5;241m=\u001B[39m(\u001B[38;5;241m0.3\u001B[39m, \u001B[38;5;241m1.5\u001B[39m),\n\u001B[1;32m      7\u001B[0m     dur_pos\u001B[38;5;241m=\u001B[39m(\u001B[38;5;241m0.1\u001B[39m, \u001B[38;5;241m1\u001B[39m),\n\u001B[1;32m      8\u001B[0m     amp_neg\u001B[38;5;241m=\u001B[39m(\u001B[38;5;241m40\u001B[39m, \u001B[38;5;241m200\u001B[39m),\n\u001B[1;32m      9\u001B[0m     amp_pos\u001B[38;5;241m=\u001B[39m(\u001B[38;5;241m10\u001B[39m, \u001B[38;5;241m150\u001B[39m),\n\u001B[1;32m     10\u001B[0m     amp_ptp\u001B[38;5;241m=\u001B[39m(\u001B[38;5;241m75\u001B[39m, \u001B[38;5;241m350\u001B[39m),\n\u001B[1;32m     11\u001B[0m     coupling\u001B[38;5;241m=\u001B[39m\u001B[38;5;28;01mFalse\u001B[39;00m,\n\u001B[1;32m     12\u001B[0m     coupling_params\u001B[38;5;241m=\u001B[39m{\u001B[38;5;124m\"\u001B[39m\u001B[38;5;124mfreq_sp\u001B[39m\u001B[38;5;124m\"\u001B[39m: (\u001B[38;5;241m12\u001B[39m, \u001B[38;5;241m16\u001B[39m), \u001B[38;5;124m\"\u001B[39m\u001B[38;5;124mp\u001B[39m\u001B[38;5;124m\"\u001B[39m: \u001B[38;5;241m0.05\u001B[39m, \u001B[38;5;124m\"\u001B[39m\u001B[38;5;124mtime\u001B[39m\u001B[38;5;124m\"\u001B[39m: \u001B[38;5;241m1\u001B[39m},\n\u001B[1;32m     13\u001B[0m     remove_outliers\u001B[38;5;241m=\u001B[39m\u001B[38;5;28;01mFalse\u001B[39;00m,\n\u001B[1;32m     14\u001B[0m     verbose\u001B[38;5;241m=\u001B[39m\u001B[38;5;28;01mFalse\u001B[39;00m,\n\u001B[1;32m     15\u001B[0m     save\u001B[38;5;241m=\u001B[39m\u001B[38;5;28;01mTrue\u001B[39;00m,\n\u001B[1;32m     16\u001B[0m )\n",
      "File \u001B[0;32m~/Desktop/myProjects/sleeping_lab/repos/sleepeegpy/sleepeegpy2/utils.py:16\u001B[0m, in \u001B[0;36mlogger_wraps.<locals>.wrapper.<locals>.wrapped\u001B[0;34m(self, *args, **kwargs)\u001B[0m\n\u001B[1;32m     11\u001B[0m logger_ \u001B[38;5;241m=\u001B[39m logger\u001B[38;5;241m.\u001B[39mopt(depth\u001B[38;5;241m=\u001B[39m\u001B[38;5;241m1\u001B[39m)\n\u001B[1;32m     12\u001B[0m logger_\u001B[38;5;241m.\u001B[39mlog(\n\u001B[1;32m     13\u001B[0m     level,\n\u001B[1;32m     14\u001B[0m     \u001B[38;5;124mf\u001B[39m\u001B[38;5;124m\"\u001B[39m\u001B[38;5;124mEntering \u001B[39m\u001B[38;5;124m'\u001B[39m\u001B[38;5;132;01m{\u001B[39;00m\u001B[38;5;28mself\u001B[39m\u001B[38;5;241m.\u001B[39m\u001B[38;5;18m__class__\u001B[39m\u001B[38;5;241m.\u001B[39m\u001B[38;5;18m__name__\u001B[39m\u001B[38;5;132;01m}\u001B[39;00m\u001B[38;5;124m.\u001B[39m\u001B[38;5;132;01m{\u001B[39;00mname\u001B[38;5;132;01m}\u001B[39;00m\u001B[38;5;124m'\u001B[39m\u001B[38;5;124m (args=\u001B[39m\u001B[38;5;132;01m{\u001B[39;00margs\u001B[38;5;132;01m}\u001B[39;00m\u001B[38;5;124m, kwargs=\u001B[39m\u001B[38;5;132;01m{\u001B[39;00mkwargs\u001B[38;5;132;01m}\u001B[39;00m\u001B[38;5;124m)\u001B[39m\u001B[38;5;124m\"\u001B[39m,\n\u001B[1;32m     15\u001B[0m )\n\u001B[0;32m---> 16\u001B[0m result \u001B[38;5;241m=\u001B[39m func(\u001B[38;5;28mself\u001B[39m, \u001B[38;5;241m*\u001B[39margs, \u001B[38;5;241m*\u001B[39m\u001B[38;5;241m*\u001B[39mkwargs)\n\u001B[1;32m     18\u001B[0m \u001B[38;5;28;01mreturn\u001B[39;00m result\n",
      "File \u001B[0;32m~/Desktop/myProjects/sleeping_lab/repos/sleepeegpy/sleepeegpy2/pipeline.py:723\u001B[0m, in \u001B[0;36mSlowWavesPipe.detect\u001B[0;34m(self, picks, reference, include, freq_sw, dur_neg, dur_pos, amp_neg, amp_pos, amp_ptp, coupling, coupling_params, remove_outliers, verbose, save)\u001B[0m\n\u001B[1;32m    721\u001B[0m \u001B[38;5;28;01mif\u001B[39;00m reference \u001B[38;5;129;01mis\u001B[39;00m \u001B[38;5;129;01mnot\u001B[39;00m \u001B[38;5;28;01mNone\u001B[39;00m:\n\u001B[1;32m    722\u001B[0m     inst\u001B[38;5;241m.\u001B[39mset_eeg_reference(ref_channels\u001B[38;5;241m=\u001B[39mreference)\n\u001B[0;32m--> 723\u001B[0m \u001B[38;5;28mself\u001B[39m\u001B[38;5;241m.\u001B[39mresults \u001B[38;5;241m=\u001B[39m sw_detect(\n\u001B[1;32m    724\u001B[0m     data\u001B[38;5;241m=\u001B[39minst\u001B[38;5;241m.\u001B[39mpick(picks),\n\u001B[1;32m    725\u001B[0m     hypno\u001B[38;5;241m=\u001B[39m\u001B[38;5;28mself\u001B[39m\u001B[38;5;241m.\u001B[39mhypno_up,\n\u001B[1;32m    726\u001B[0m     verbose\u001B[38;5;241m=\u001B[39mverbose,\n\u001B[1;32m    727\u001B[0m     include\u001B[38;5;241m=\u001B[39minclude,\n\u001B[1;32m    728\u001B[0m     freq_sw\u001B[38;5;241m=\u001B[39mfreq_sw,\n\u001B[1;32m    729\u001B[0m     dur_neg\u001B[38;5;241m=\u001B[39mdur_neg,\n\u001B[1;32m    730\u001B[0m     dur_pos\u001B[38;5;241m=\u001B[39mdur_pos,\n\u001B[1;32m    731\u001B[0m     amp_neg\u001B[38;5;241m=\u001B[39mamp_neg,\n\u001B[1;32m    732\u001B[0m     amp_pos\u001B[38;5;241m=\u001B[39mamp_pos,\n\u001B[1;32m    733\u001B[0m     amp_ptp\u001B[38;5;241m=\u001B[39mamp_ptp,\n\u001B[1;32m    734\u001B[0m     coupling\u001B[38;5;241m=\u001B[39mcoupling,\n\u001B[1;32m    735\u001B[0m     coupling_params\u001B[38;5;241m=\u001B[39mcoupling_params,\n\u001B[1;32m    736\u001B[0m     remove_outliers\u001B[38;5;241m=\u001B[39mremove_outliers,\n\u001B[1;32m    737\u001B[0m )\n\u001B[1;32m    738\u001B[0m \u001B[38;5;28;01mif\u001B[39;00m save:\n\u001B[1;32m    739\u001B[0m     \u001B[38;5;28mself\u001B[39m\u001B[38;5;241m.\u001B[39m_save_to_csv()\n",
      "File \u001B[0;32m~/miniconda3/envs/notebook/lib/python3.11/site-packages/yasa/detection.py:1622\u001B[0m, in \u001B[0;36msw_detect\u001B[0;34m(data, sf, ch_names, hypno, include, freq_sw, dur_neg, dur_pos, amp_neg, amp_pos, amp_ptp, coupling, coupling_params, remove_outliers, verbose)\u001B[0m\n\u001B[1;32m   1415\u001B[0m \u001B[38;5;250m\u001B[39m\u001B[38;5;124;03m\"\"\"Slow-waves detection.\u001B[39;00m\n\u001B[1;32m   1416\u001B[0m \n\u001B[1;32m   1417\u001B[0m \u001B[38;5;124;03mParameters\u001B[39;00m\n\u001B[0;32m   (...)\u001B[0m\n\u001B[1;32m   1618\u001B[0m \u001B[38;5;124;03mhttps://github.com/raphaelvallat/yasa/blob/master/notebooks/05_sw_detection.ipynb\u001B[39;00m\n\u001B[1;32m   1619\u001B[0m \u001B[38;5;124;03m\"\"\"\u001B[39;00m\n\u001B[1;32m   1620\u001B[0m set_log_level(verbose)\n\u001B[0;32m-> 1622\u001B[0m (data, sf, ch_names, hypno, include, mask, n_chan, n_samples, bad_chan) \u001B[38;5;241m=\u001B[39m _check_data_hypno(\n\u001B[1;32m   1623\u001B[0m     data, sf, ch_names, hypno, include\n\u001B[1;32m   1624\u001B[0m )\n\u001B[1;32m   1626\u001B[0m \u001B[38;5;66;03m# If all channels are bad\u001B[39;00m\n\u001B[1;32m   1627\u001B[0m \u001B[38;5;28;01mif\u001B[39;00m \u001B[38;5;28msum\u001B[39m(bad_chan) \u001B[38;5;241m==\u001B[39m n_chan:\n",
      "File \u001B[0;32m~/miniconda3/envs/notebook/lib/python3.11/site-packages/yasa/detection.py:89\u001B[0m, in \u001B[0;36m_check_data_hypno\u001B[0;34m(data, sf, ch_names, hypno, include, check_amp)\u001B[0m\n\u001B[1;32m     87\u001B[0m     \u001B[38;5;28;01massert\u001B[39;00m include\u001B[38;5;241m.\u001B[39msize \u001B[38;5;241m>\u001B[39m\u001B[38;5;241m=\u001B[39m \u001B[38;5;241m1\u001B[39m, \u001B[38;5;124m\"\u001B[39m\u001B[38;5;124m`include` must have at least one element.\u001B[39m\u001B[38;5;124m\"\u001B[39m\n\u001B[1;32m     88\u001B[0m     \u001B[38;5;28;01massert\u001B[39;00m hypno\u001B[38;5;241m.\u001B[39mdtype\u001B[38;5;241m.\u001B[39mkind \u001B[38;5;241m==\u001B[39m include\u001B[38;5;241m.\u001B[39mdtype\u001B[38;5;241m.\u001B[39mkind, \u001B[38;5;124m\"\u001B[39m\u001B[38;5;124mhypno and include must have same dtype\u001B[39m\u001B[38;5;124m\"\u001B[39m\n\u001B[0;32m---> 89\u001B[0m     \u001B[38;5;28;01massert\u001B[39;00m np\u001B[38;5;241m.\u001B[39min1d(hypno, include)\u001B[38;5;241m.\u001B[39many(), (\n\u001B[1;32m     90\u001B[0m         \u001B[38;5;124m\"\u001B[39m\u001B[38;5;124mNone of the stages specified \u001B[39m\u001B[38;5;124m\"\u001B[39m \u001B[38;5;124m\"\u001B[39m\u001B[38;5;124min `include` are present in \u001B[39m\u001B[38;5;124m\"\u001B[39m \u001B[38;5;124m\"\u001B[39m\u001B[38;5;124mhypno.\u001B[39m\u001B[38;5;124m\"\u001B[39m\n\u001B[1;32m     91\u001B[0m     )\n\u001B[1;32m     93\u001B[0m \u001B[38;5;66;03m# 4) Check data amplitude\u001B[39;00m\n\u001B[1;32m     94\u001B[0m logger\u001B[38;5;241m.\u001B[39minfo(\u001B[38;5;124m\"\u001B[39m\u001B[38;5;124mNumber of samples in data = \u001B[39m\u001B[38;5;132;01m%i\u001B[39;00m\u001B[38;5;124m\"\u001B[39m, n_samples)\n",
      "\u001B[0;31mAssertionError\u001B[0m: None of the stages specified in `include` are present in hypno."
     ]
    }
   ],
   "execution_count": 5
  },
  {
   "attachments": {},
   "cell_type": "markdown",
   "metadata": {},
   "source": "Please refer to the YASA's [documentation](https://raphaelvallat.com/yasa/build/html/generated/yasa.SWResults.html) for details about the arguments."
  },
  {
   "cell_type": "code",
   "metadata": {
    "ExecuteTime": {
     "end_time": "2024-08-06T08:01:03.567177Z",
     "start_time": "2024-08-06T08:01:03.551239Z"
    }
   },
   "source": [
    "slow_waves_pipe.results.summary(\n",
    "    grp_chan=False, grp_stage=True, mask=None, aggfunc=\"mean\", sort=True\n",
    ")"
   ],
   "outputs": [
    {
     "ename": "AttributeError",
     "evalue": "'SlowWavesPipe' object has no attribute 'results'",
     "output_type": "error",
     "traceback": [
      "\u001B[0;31m---------------------------------------------------------------------------\u001B[0m",
      "\u001B[0;31mAttributeError\u001B[0m                            Traceback (most recent call last)",
      "Cell \u001B[0;32mIn[6], line 1\u001B[0m\n\u001B[0;32m----> 1\u001B[0m slow_waves_pipe\u001B[38;5;241m.\u001B[39mresults\u001B[38;5;241m.\u001B[39msummary(\n\u001B[1;32m      2\u001B[0m     grp_chan\u001B[38;5;241m=\u001B[39m\u001B[38;5;28;01mFalse\u001B[39;00m, grp_stage\u001B[38;5;241m=\u001B[39m\u001B[38;5;28;01mTrue\u001B[39;00m, mask\u001B[38;5;241m=\u001B[39m\u001B[38;5;28;01mNone\u001B[39;00m, aggfunc\u001B[38;5;241m=\u001B[39m\u001B[38;5;124m\"\u001B[39m\u001B[38;5;124mmean\u001B[39m\u001B[38;5;124m\"\u001B[39m, sort\u001B[38;5;241m=\u001B[39m\u001B[38;5;28;01mTrue\u001B[39;00m\n\u001B[1;32m      3\u001B[0m )\n",
      "\u001B[0;31mAttributeError\u001B[0m: 'SlowWavesPipe' object has no attribute 'results'"
     ]
    }
   ],
   "execution_count": 6
  },
  {
   "cell_type": "code",
   "metadata": {
    "ExecuteTime": {
     "end_time": "2024-08-06T08:01:06.576262Z",
     "start_time": "2024-08-06T08:01:06.484357Z"
    }
   },
   "source": [
    "slow_waves_pipe.plot_average(\n",
    "    save=True,\n",
    "    center=\"NegPeak\",\n",
    "    hue=\"Stage\",\n",
    "    time_before=0.4,\n",
    "    time_after=0.8,\n",
    "    filt=(None, None),\n",
    "    mask=None,\n",
    ")"
   ],
   "outputs": [
    {
     "ename": "AttributeError",
     "evalue": "'SlowWavesPipe' object has no attribute 'results'",
     "output_type": "error",
     "traceback": [
      "\u001B[0;31m---------------------------------------------------------------------------\u001B[0m",
      "\u001B[0;31mAttributeError\u001B[0m                            Traceback (most recent call last)",
      "Cell \u001B[0;32mIn[7], line 1\u001B[0m\n\u001B[0;32m----> 1\u001B[0m slow_waves_pipe\u001B[38;5;241m.\u001B[39mplot_average(\n\u001B[1;32m      2\u001B[0m     save\u001B[38;5;241m=\u001B[39m\u001B[38;5;28;01mTrue\u001B[39;00m,\n\u001B[1;32m      3\u001B[0m     center\u001B[38;5;241m=\u001B[39m\u001B[38;5;124m\"\u001B[39m\u001B[38;5;124mNegPeak\u001B[39m\u001B[38;5;124m\"\u001B[39m,\n\u001B[1;32m      4\u001B[0m     hue\u001B[38;5;241m=\u001B[39m\u001B[38;5;124m\"\u001B[39m\u001B[38;5;124mStage\u001B[39m\u001B[38;5;124m\"\u001B[39m,\n\u001B[1;32m      5\u001B[0m     time_before\u001B[38;5;241m=\u001B[39m\u001B[38;5;241m0.4\u001B[39m,\n\u001B[1;32m      6\u001B[0m     time_after\u001B[38;5;241m=\u001B[39m\u001B[38;5;241m0.8\u001B[39m,\n\u001B[1;32m      7\u001B[0m     filt\u001B[38;5;241m=\u001B[39m(\u001B[38;5;28;01mNone\u001B[39;00m, \u001B[38;5;28;01mNone\u001B[39;00m),\n\u001B[1;32m      8\u001B[0m     mask\u001B[38;5;241m=\u001B[39m\u001B[38;5;28;01mNone\u001B[39;00m,\n\u001B[1;32m      9\u001B[0m )\n",
      "File \u001B[0;32m~/Desktop/myProjects/sleeping_lab/repos/sleepeegpy/sleepeegpy2/utils.py:16\u001B[0m, in \u001B[0;36mlogger_wraps.<locals>.wrapper.<locals>.wrapped\u001B[0;34m(self, *args, **kwargs)\u001B[0m\n\u001B[1;32m     11\u001B[0m logger_ \u001B[38;5;241m=\u001B[39m logger\u001B[38;5;241m.\u001B[39mopt(depth\u001B[38;5;241m=\u001B[39m\u001B[38;5;241m1\u001B[39m)\n\u001B[1;32m     12\u001B[0m logger_\u001B[38;5;241m.\u001B[39mlog(\n\u001B[1;32m     13\u001B[0m     level,\n\u001B[1;32m     14\u001B[0m     \u001B[38;5;124mf\u001B[39m\u001B[38;5;124m\"\u001B[39m\u001B[38;5;124mEntering \u001B[39m\u001B[38;5;124m'\u001B[39m\u001B[38;5;132;01m{\u001B[39;00m\u001B[38;5;28mself\u001B[39m\u001B[38;5;241m.\u001B[39m\u001B[38;5;18m__class__\u001B[39m\u001B[38;5;241m.\u001B[39m\u001B[38;5;18m__name__\u001B[39m\u001B[38;5;132;01m}\u001B[39;00m\u001B[38;5;124m.\u001B[39m\u001B[38;5;132;01m{\u001B[39;00mname\u001B[38;5;132;01m}\u001B[39;00m\u001B[38;5;124m'\u001B[39m\u001B[38;5;124m (args=\u001B[39m\u001B[38;5;132;01m{\u001B[39;00margs\u001B[38;5;132;01m}\u001B[39;00m\u001B[38;5;124m, kwargs=\u001B[39m\u001B[38;5;132;01m{\u001B[39;00mkwargs\u001B[38;5;132;01m}\u001B[39;00m\u001B[38;5;124m)\u001B[39m\u001B[38;5;124m\"\u001B[39m,\n\u001B[1;32m     15\u001B[0m )\n\u001B[0;32m---> 16\u001B[0m result \u001B[38;5;241m=\u001B[39m func(\u001B[38;5;28mself\u001B[39m, \u001B[38;5;241m*\u001B[39margs, \u001B[38;5;241m*\u001B[39m\u001B[38;5;241m*\u001B[39mkwargs)\n\u001B[1;32m     18\u001B[0m \u001B[38;5;28;01mreturn\u001B[39;00m result\n",
      "File \u001B[0;32m~/Desktop/myProjects/sleeping_lab/repos/sleepeegpy/sleepeegpy2/base.py:419\u001B[0m, in \u001B[0;36mBaseEventPipe.plot_average\u001B[0;34m(self, save, **kwargs)\u001B[0m\n\u001B[1;32m    411\u001B[0m \u001B[38;5;129m@logger_wraps\u001B[39m()\n\u001B[1;32m    412\u001B[0m \u001B[38;5;28;01mdef\u001B[39;00m \u001B[38;5;21mplot_average\u001B[39m(\u001B[38;5;28mself\u001B[39m, save: \u001B[38;5;28mbool\u001B[39m \u001B[38;5;241m=\u001B[39m \u001B[38;5;28;01mFalse\u001B[39;00m, \u001B[38;5;241m*\u001B[39m\u001B[38;5;241m*\u001B[39mkwargs):\n\u001B[1;32m    413\u001B[0m \u001B[38;5;250m    \u001B[39m\u001B[38;5;124;03m\"\"\"Plot average of the detected event.\u001B[39;00m\n\u001B[1;32m    414\u001B[0m \n\u001B[1;32m    415\u001B[0m \u001B[38;5;124;03m    Args:\u001B[39;00m\n\u001B[1;32m    416\u001B[0m \u001B[38;5;124;03m        save: Whether to save the figure to file. Defaults to False.\u001B[39;00m\n\u001B[1;32m    417\u001B[0m \u001B[38;5;124;03m        **kwargs: Arguments passed to the YASA's plot_average().\u001B[39;00m\n\u001B[1;32m    418\u001B[0m \u001B[38;5;124;03m    \"\"\"\u001B[39;00m\n\u001B[0;32m--> 419\u001B[0m     \u001B[38;5;28mself\u001B[39m\u001B[38;5;241m.\u001B[39mresults\u001B[38;5;241m.\u001B[39mplot_average(\u001B[38;5;241m*\u001B[39m\u001B[38;5;241m*\u001B[39mkwargs)\n\u001B[1;32m    420\u001B[0m     \u001B[38;5;28;01mif\u001B[39;00m save:\n\u001B[1;32m    421\u001B[0m         \u001B[38;5;28mself\u001B[39m\u001B[38;5;241m.\u001B[39m_savefig(\u001B[38;5;124mf\u001B[39m\u001B[38;5;124m\"\u001B[39m\u001B[38;5;132;01m{\u001B[39;00m\u001B[38;5;28mself\u001B[39m\u001B[38;5;241m.\u001B[39m\u001B[38;5;18m__class__\u001B[39m\u001B[38;5;241m.\u001B[39m\u001B[38;5;18m__name__\u001B[39m[:\u001B[38;5;241m-\u001B[39m\u001B[38;5;241m4\u001B[39m]\u001B[38;5;241m.\u001B[39mlower()\u001B[38;5;132;01m}\u001B[39;00m\u001B[38;5;124m_avg.png\u001B[39m\u001B[38;5;124m\"\u001B[39m)\n",
      "\u001B[0;31mAttributeError\u001B[0m: 'SlowWavesPipe' object has no attribute 'results'"
     ]
    }
   ],
   "execution_count": 7
  },
  {
   "cell_type": "code",
   "metadata": {
    "ExecuteTime": {
     "end_time": "2024-08-06T08:01:10.401445Z",
     "start_time": "2024-08-06T08:01:10.352374Z"
    }
   },
   "source": [
    "slow_waves_pipe.plot_topomap(\n",
    "    prop=\"Slope\",  #  Any of the event properties returned by pipe.results.summary().\n",
    "    stage=\"N3\",  # Stage to plot the topomap for.\n",
    "    aggfunc=\"mean\",  # Aggregation function for channel grouping.\n",
    "    # Should contain at least index of the provided \"stage\".\n",
    "    sleep_stages={\"Wake\": 0, \"N1\": 1, \"N2\": 2, \"N3\": 3, \"REM\": 4},\n",
    "    axis=None,  # Whether to plot on provided matplotlib axis.\n",
    "    save=True,  # Whether to save the plot as a file.\n",
    "    topomap_args=dict(cmap=\"plasma\"),  # Arguments passed to mne.viz.plot_topomap().\n",
    "    cbar_args=None,  # Arguments passed to plt.colorbar().\n",
    ")"
   ],
   "outputs": [
    {
     "ename": "AttributeError",
     "evalue": "'SlowWavesPipe' object has no attribute 'results'",
     "output_type": "error",
     "traceback": [
      "\u001B[0;31m---------------------------------------------------------------------------\u001B[0m",
      "\u001B[0;31mAttributeError\u001B[0m                            Traceback (most recent call last)",
      "Cell \u001B[0;32mIn[8], line 1\u001B[0m\n\u001B[0;32m----> 1\u001B[0m slow_waves_pipe\u001B[38;5;241m.\u001B[39mplot_topomap(\n\u001B[1;32m      2\u001B[0m     prop\u001B[38;5;241m=\u001B[39m\u001B[38;5;124m\"\u001B[39m\u001B[38;5;124mSlope\u001B[39m\u001B[38;5;124m\"\u001B[39m,  \u001B[38;5;66;03m#  Any of the event properties returned by pipe.results.summary().\u001B[39;00m\n\u001B[1;32m      3\u001B[0m     stage\u001B[38;5;241m=\u001B[39m\u001B[38;5;124m\"\u001B[39m\u001B[38;5;124mN3\u001B[39m\u001B[38;5;124m\"\u001B[39m,  \u001B[38;5;66;03m# Stage to plot the topomap for.\u001B[39;00m\n\u001B[1;32m      4\u001B[0m     aggfunc\u001B[38;5;241m=\u001B[39m\u001B[38;5;124m\"\u001B[39m\u001B[38;5;124mmean\u001B[39m\u001B[38;5;124m\"\u001B[39m,  \u001B[38;5;66;03m# Aggregation function for channel grouping.\u001B[39;00m\n\u001B[1;32m      5\u001B[0m     \u001B[38;5;66;03m# Should contain at least index of the provided \"stage\".\u001B[39;00m\n\u001B[1;32m      6\u001B[0m     sleep_stages\u001B[38;5;241m=\u001B[39m{\u001B[38;5;124m\"\u001B[39m\u001B[38;5;124mWake\u001B[39m\u001B[38;5;124m\"\u001B[39m: \u001B[38;5;241m0\u001B[39m, \u001B[38;5;124m\"\u001B[39m\u001B[38;5;124mN1\u001B[39m\u001B[38;5;124m\"\u001B[39m: \u001B[38;5;241m1\u001B[39m, \u001B[38;5;124m\"\u001B[39m\u001B[38;5;124mN2\u001B[39m\u001B[38;5;124m\"\u001B[39m: \u001B[38;5;241m2\u001B[39m, \u001B[38;5;124m\"\u001B[39m\u001B[38;5;124mN3\u001B[39m\u001B[38;5;124m\"\u001B[39m: \u001B[38;5;241m3\u001B[39m, \u001B[38;5;124m\"\u001B[39m\u001B[38;5;124mREM\u001B[39m\u001B[38;5;124m\"\u001B[39m: \u001B[38;5;241m4\u001B[39m},\n\u001B[1;32m      7\u001B[0m     axis\u001B[38;5;241m=\u001B[39m\u001B[38;5;28;01mNone\u001B[39;00m,  \u001B[38;5;66;03m# Whether to plot on provided matplotlib axis.\u001B[39;00m\n\u001B[1;32m      8\u001B[0m     save\u001B[38;5;241m=\u001B[39m\u001B[38;5;28;01mTrue\u001B[39;00m,  \u001B[38;5;66;03m# Whether to save the plot as a file.\u001B[39;00m\n\u001B[1;32m      9\u001B[0m     topomap_args\u001B[38;5;241m=\u001B[39m\u001B[38;5;28mdict\u001B[39m(cmap\u001B[38;5;241m=\u001B[39m\u001B[38;5;124m\"\u001B[39m\u001B[38;5;124mplasma\u001B[39m\u001B[38;5;124m\"\u001B[39m),  \u001B[38;5;66;03m# Arguments passed to mne.viz.plot_topomap().\u001B[39;00m\n\u001B[1;32m     10\u001B[0m     cbar_args\u001B[38;5;241m=\u001B[39m\u001B[38;5;28;01mNone\u001B[39;00m,  \u001B[38;5;66;03m# Arguments passed to plt.colorbar().\u001B[39;00m\n\u001B[1;32m     11\u001B[0m )\n",
      "File \u001B[0;32m~/Desktop/myProjects/sleeping_lab/repos/sleepeegpy/sleepeegpy2/utils.py:16\u001B[0m, in \u001B[0;36mlogger_wraps.<locals>.wrapper.<locals>.wrapped\u001B[0;34m(self, *args, **kwargs)\u001B[0m\n\u001B[1;32m     11\u001B[0m logger_ \u001B[38;5;241m=\u001B[39m logger\u001B[38;5;241m.\u001B[39mopt(depth\u001B[38;5;241m=\u001B[39m\u001B[38;5;241m1\u001B[39m)\n\u001B[1;32m     12\u001B[0m logger_\u001B[38;5;241m.\u001B[39mlog(\n\u001B[1;32m     13\u001B[0m     level,\n\u001B[1;32m     14\u001B[0m     \u001B[38;5;124mf\u001B[39m\u001B[38;5;124m\"\u001B[39m\u001B[38;5;124mEntering \u001B[39m\u001B[38;5;124m'\u001B[39m\u001B[38;5;132;01m{\u001B[39;00m\u001B[38;5;28mself\u001B[39m\u001B[38;5;241m.\u001B[39m\u001B[38;5;18m__class__\u001B[39m\u001B[38;5;241m.\u001B[39m\u001B[38;5;18m__name__\u001B[39m\u001B[38;5;132;01m}\u001B[39;00m\u001B[38;5;124m.\u001B[39m\u001B[38;5;132;01m{\u001B[39;00mname\u001B[38;5;132;01m}\u001B[39;00m\u001B[38;5;124m'\u001B[39m\u001B[38;5;124m (args=\u001B[39m\u001B[38;5;132;01m{\u001B[39;00margs\u001B[38;5;132;01m}\u001B[39;00m\u001B[38;5;124m, kwargs=\u001B[39m\u001B[38;5;132;01m{\u001B[39;00mkwargs\u001B[38;5;132;01m}\u001B[39;00m\u001B[38;5;124m)\u001B[39m\u001B[38;5;124m\"\u001B[39m,\n\u001B[1;32m     15\u001B[0m )\n\u001B[0;32m---> 16\u001B[0m result \u001B[38;5;241m=\u001B[39m func(\u001B[38;5;28mself\u001B[39m, \u001B[38;5;241m*\u001B[39margs, \u001B[38;5;241m*\u001B[39m\u001B[38;5;241m*\u001B[39mkwargs)\n\u001B[1;32m     18\u001B[0m \u001B[38;5;28;01mreturn\u001B[39;00m result\n",
      "File \u001B[0;32m~/Desktop/myProjects/sleeping_lab/repos/sleepeegpy/sleepeegpy2/base.py:461\u001B[0m, in \u001B[0;36mBaseEventPipe.plot_topomap\u001B[0;34m(self, prop, stage, aggfunc, sleep_stages, axis, save, topomap_args, cbar_args)\u001B[0m\n\u001B[1;32m    457\u001B[0m cbar_args\u001B[38;5;241m.\u001B[39msetdefault(\u001B[38;5;124m\"\u001B[39m\u001B[38;5;124mlabel\u001B[39m\u001B[38;5;124m\"\u001B[39m, prop)\n\u001B[1;32m    459\u001B[0m \u001B[38;5;66;03m# Get detection results df and sort it naturally by channel name.\u001B[39;00m\n\u001B[1;32m    460\u001B[0m grouped_summary \u001B[38;5;241m=\u001B[39m (\n\u001B[0;32m--> 461\u001B[0m     \u001B[38;5;28mself\u001B[39m\u001B[38;5;241m.\u001B[39mresults\u001B[38;5;241m.\u001B[39msummary(grp_chan\u001B[38;5;241m=\u001B[39m\u001B[38;5;28;01mTrue\u001B[39;00m, grp_stage\u001B[38;5;241m=\u001B[39m\u001B[38;5;28;01mTrue\u001B[39;00m, aggfunc\u001B[38;5;241m=\u001B[39maggfunc)\n\u001B[1;32m    462\u001B[0m     \u001B[38;5;241m.\u001B[39msort_values(\u001B[38;5;124m\"\u001B[39m\u001B[38;5;124mChannel\u001B[39m\u001B[38;5;124m\"\u001B[39m, key\u001B[38;5;241m=\u001B[39mnatsort_keygen())\n\u001B[1;32m    463\u001B[0m     \u001B[38;5;241m.\u001B[39mreset_index()\n\u001B[1;32m    464\u001B[0m )\n\u001B[1;32m    466\u001B[0m \u001B[38;5;28;01mif\u001B[39;00m \u001B[38;5;129;01mnot\u001B[39;00m np\u001B[38;5;241m.\u001B[39misin(sleep_stages[stage], grouped_summary[\u001B[38;5;124m\"\u001B[39m\u001B[38;5;124mStage\u001B[39m\u001B[38;5;124m\"\u001B[39m]\u001B[38;5;241m.\u001B[39munique())\u001B[38;5;241m.\u001B[39mall():\n\u001B[1;32m    467\u001B[0m     \u001B[38;5;28;01mraise\u001B[39;00m \u001B[38;5;167;01mKeyError\u001B[39;00m(\n\u001B[1;32m    468\u001B[0m         \u001B[38;5;124mf\u001B[39m\u001B[38;5;124m\"\u001B[39m\u001B[38;5;124mThe \u001B[39m\u001B[38;5;132;01m{\u001B[39;00mstage\u001B[38;5;132;01m}\u001B[39;00m\u001B[38;5;124m stage is absent in the detected events, \u001B[39m\u001B[38;5;124m\"\u001B[39m\n\u001B[1;32m    469\u001B[0m         \u001B[38;5;124m\"\u001B[39m\u001B[38;5;124mwas it included in the detect method?\u001B[39m\u001B[38;5;124m\"\u001B[39m\n\u001B[1;32m    470\u001B[0m     )\n",
      "\u001B[0;31mAttributeError\u001B[0m: 'SlowWavesPipe' object has no attribute 'results'"
     ]
    }
   ],
   "execution_count": 8
  },
  {
   "cell_type": "code",
   "metadata": {
    "ExecuteTime": {
     "end_time": "2024-08-06T08:01:15.963178Z",
     "start_time": "2024-08-06T08:01:15.915422Z"
    }
   },
   "source": [
    "slow_waves_pipe.plot_topomap_collage(\n",
    "    # Some of the event properties returned by pipe.results.summary().\n",
    "    props=[\"Slope\", \"Frequency\", \"Duration\"],\n",
    "    aggfunc=\"mean\",  # Aggregation function for channel grouping.\n",
    "    # Tuple of strs or \"all\", e.g., (\"N1\", \"REM\") or \"all\" (plots all \"sleep_stages\").\n",
    "    stages_to_plot=\"all\",\n",
    "    # Should contain at least indices of the provided \"stages_to_plot\".\n",
    "    sleep_stages={\"N2\": 2, \"N3\": 3},\n",
    "    low_percentile=5,  # Set min color value by percentile of the property data.\n",
    "    high_percentile=95,  # Set max color value by percentile of the property data.\n",
    "    fig=None,  # Instance of plt.Figure, a new fig will be created if None.\n",
    "    save=True,  # Whether to save the plot as a file.\n",
    "    topomap_args=dict(cmap=\"plasma\"),  # Arguments passed to mne.viz.plot_topomap().\n",
    "    cbar_args=None,  # Arguments passed to plt.colorbar().\n",
    ")"
   ],
   "outputs": [
    {
     "ename": "AttributeError",
     "evalue": "'SlowWavesPipe' object has no attribute 'results'",
     "output_type": "error",
     "traceback": [
      "\u001B[0;31m---------------------------------------------------------------------------\u001B[0m",
      "\u001B[0;31mAttributeError\u001B[0m                            Traceback (most recent call last)",
      "Cell \u001B[0;32mIn[9], line 1\u001B[0m\n\u001B[0;32m----> 1\u001B[0m slow_waves_pipe\u001B[38;5;241m.\u001B[39mplot_topomap_collage(\n\u001B[1;32m      2\u001B[0m     \u001B[38;5;66;03m# Some of the event properties returned by pipe.results.summary().\u001B[39;00m\n\u001B[1;32m      3\u001B[0m     props\u001B[38;5;241m=\u001B[39m[\u001B[38;5;124m\"\u001B[39m\u001B[38;5;124mSlope\u001B[39m\u001B[38;5;124m\"\u001B[39m, \u001B[38;5;124m\"\u001B[39m\u001B[38;5;124mFrequency\u001B[39m\u001B[38;5;124m\"\u001B[39m, \u001B[38;5;124m\"\u001B[39m\u001B[38;5;124mDuration\u001B[39m\u001B[38;5;124m\"\u001B[39m],\n\u001B[1;32m      4\u001B[0m     aggfunc\u001B[38;5;241m=\u001B[39m\u001B[38;5;124m\"\u001B[39m\u001B[38;5;124mmean\u001B[39m\u001B[38;5;124m\"\u001B[39m,  \u001B[38;5;66;03m# Aggregation function for channel grouping.\u001B[39;00m\n\u001B[1;32m      5\u001B[0m     \u001B[38;5;66;03m# Tuple of strs or \"all\", e.g., (\"N1\", \"REM\") or \"all\" (plots all \"sleep_stages\").\u001B[39;00m\n\u001B[1;32m      6\u001B[0m     stages_to_plot\u001B[38;5;241m=\u001B[39m\u001B[38;5;124m\"\u001B[39m\u001B[38;5;124mall\u001B[39m\u001B[38;5;124m\"\u001B[39m,\n\u001B[1;32m      7\u001B[0m     \u001B[38;5;66;03m# Should contain at least indices of the provided \"stages_to_plot\".\u001B[39;00m\n\u001B[1;32m      8\u001B[0m     sleep_stages\u001B[38;5;241m=\u001B[39m{\u001B[38;5;124m\"\u001B[39m\u001B[38;5;124mN2\u001B[39m\u001B[38;5;124m\"\u001B[39m: \u001B[38;5;241m2\u001B[39m, \u001B[38;5;124m\"\u001B[39m\u001B[38;5;124mN3\u001B[39m\u001B[38;5;124m\"\u001B[39m: \u001B[38;5;241m3\u001B[39m},\n\u001B[1;32m      9\u001B[0m     low_percentile\u001B[38;5;241m=\u001B[39m\u001B[38;5;241m5\u001B[39m,  \u001B[38;5;66;03m# Set min color value by percentile of the property data.\u001B[39;00m\n\u001B[1;32m     10\u001B[0m     high_percentile\u001B[38;5;241m=\u001B[39m\u001B[38;5;241m95\u001B[39m,  \u001B[38;5;66;03m# Set max color value by percentile of the property data.\u001B[39;00m\n\u001B[1;32m     11\u001B[0m     fig\u001B[38;5;241m=\u001B[39m\u001B[38;5;28;01mNone\u001B[39;00m,  \u001B[38;5;66;03m# Instance of plt.Figure, a new fig will be created if None.\u001B[39;00m\n\u001B[1;32m     12\u001B[0m     save\u001B[38;5;241m=\u001B[39m\u001B[38;5;28;01mTrue\u001B[39;00m,  \u001B[38;5;66;03m# Whether to save the plot as a file.\u001B[39;00m\n\u001B[1;32m     13\u001B[0m     topomap_args\u001B[38;5;241m=\u001B[39m\u001B[38;5;28mdict\u001B[39m(cmap\u001B[38;5;241m=\u001B[39m\u001B[38;5;124m\"\u001B[39m\u001B[38;5;124mplasma\u001B[39m\u001B[38;5;124m\"\u001B[39m),  \u001B[38;5;66;03m# Arguments passed to mne.viz.plot_topomap().\u001B[39;00m\n\u001B[1;32m     14\u001B[0m     cbar_args\u001B[38;5;241m=\u001B[39m\u001B[38;5;28;01mNone\u001B[39;00m,  \u001B[38;5;66;03m# Arguments passed to plt.colorbar().\u001B[39;00m\n\u001B[1;32m     15\u001B[0m )\n",
      "File \u001B[0;32m~/Desktop/myProjects/sleeping_lab/repos/sleepeegpy/sleepeegpy2/utils.py:16\u001B[0m, in \u001B[0;36mlogger_wraps.<locals>.wrapper.<locals>.wrapped\u001B[0;34m(self, *args, **kwargs)\u001B[0m\n\u001B[1;32m     11\u001B[0m logger_ \u001B[38;5;241m=\u001B[39m logger\u001B[38;5;241m.\u001B[39mopt(depth\u001B[38;5;241m=\u001B[39m\u001B[38;5;241m1\u001B[39m)\n\u001B[1;32m     12\u001B[0m logger_\u001B[38;5;241m.\u001B[39mlog(\n\u001B[1;32m     13\u001B[0m     level,\n\u001B[1;32m     14\u001B[0m     \u001B[38;5;124mf\u001B[39m\u001B[38;5;124m\"\u001B[39m\u001B[38;5;124mEntering \u001B[39m\u001B[38;5;124m'\u001B[39m\u001B[38;5;132;01m{\u001B[39;00m\u001B[38;5;28mself\u001B[39m\u001B[38;5;241m.\u001B[39m\u001B[38;5;18m__class__\u001B[39m\u001B[38;5;241m.\u001B[39m\u001B[38;5;18m__name__\u001B[39m\u001B[38;5;132;01m}\u001B[39;00m\u001B[38;5;124m.\u001B[39m\u001B[38;5;132;01m{\u001B[39;00mname\u001B[38;5;132;01m}\u001B[39;00m\u001B[38;5;124m'\u001B[39m\u001B[38;5;124m (args=\u001B[39m\u001B[38;5;132;01m{\u001B[39;00margs\u001B[38;5;132;01m}\u001B[39;00m\u001B[38;5;124m, kwargs=\u001B[39m\u001B[38;5;132;01m{\u001B[39;00mkwargs\u001B[38;5;132;01m}\u001B[39;00m\u001B[38;5;124m)\u001B[39m\u001B[38;5;124m\"\u001B[39m,\n\u001B[1;32m     15\u001B[0m )\n\u001B[0;32m---> 16\u001B[0m result \u001B[38;5;241m=\u001B[39m func(\u001B[38;5;28mself\u001B[39m, \u001B[38;5;241m*\u001B[39margs, \u001B[38;5;241m*\u001B[39m\u001B[38;5;241m*\u001B[39mkwargs)\n\u001B[1;32m     18\u001B[0m \u001B[38;5;28;01mreturn\u001B[39;00m result\n",
      "File \u001B[0;32m~/Desktop/myProjects/sleeping_lab/repos/sleepeegpy/sleepeegpy2/base.py:548\u001B[0m, in \u001B[0;36mBaseEventPipe.plot_topomap_collage\u001B[0;34m(self, props, aggfunc, stages_to_plot, sleep_stages, low_percentile, high_percentile, fig, save, topomap_args, cbar_args)\u001B[0m\n\u001B[1;32m    544\u001B[0m topomap_args\u001B[38;5;241m.\u001B[39msetdefault(\u001B[38;5;124m\"\u001B[39m\u001B[38;5;124mvlim\u001B[39m\u001B[38;5;124m\"\u001B[39m, [\u001B[38;5;28;01mNone\u001B[39;00m, \u001B[38;5;28;01mNone\u001B[39;00m])\n\u001B[1;32m    546\u001B[0m \u001B[38;5;28;01mif\u001B[39;00m stages_to_plot \u001B[38;5;241m==\u001B[39m \u001B[38;5;124m\"\u001B[39m\u001B[38;5;124mall\u001B[39m\u001B[38;5;124m\"\u001B[39m:\n\u001B[1;32m    547\u001B[0m     \u001B[38;5;66;03m# Get all stages the events were detected for.\u001B[39;00m\n\u001B[0;32m--> 548\u001B[0m     stages_to_plot \u001B[38;5;241m=\u001B[39m {\n\u001B[1;32m    549\u001B[0m         k: v\n\u001B[1;32m    550\u001B[0m         \u001B[38;5;28;01mfor\u001B[39;00m k, v \u001B[38;5;129;01min\u001B[39;00m sleep_stages\u001B[38;5;241m.\u001B[39mitems()\n\u001B[1;32m    551\u001B[0m         \u001B[38;5;28;01mif\u001B[39;00m v \u001B[38;5;129;01min\u001B[39;00m \u001B[38;5;28mself\u001B[39m\u001B[38;5;241m.\u001B[39mresults\u001B[38;5;241m.\u001B[39msummary()[\u001B[38;5;124m\"\u001B[39m\u001B[38;5;124mStage\u001B[39m\u001B[38;5;124m\"\u001B[39m]\u001B[38;5;241m.\u001B[39munique()\n\u001B[1;32m    552\u001B[0m     }\n\u001B[1;32m    553\u001B[0m n_rows \u001B[38;5;241m=\u001B[39m \u001B[38;5;28mlen\u001B[39m(stages_to_plot)\n\u001B[1;32m    554\u001B[0m n_cols \u001B[38;5;241m=\u001B[39m \u001B[38;5;28mlen\u001B[39m(props)\n",
      "File \u001B[0;32m~/Desktop/myProjects/sleeping_lab/repos/sleepeegpy/sleepeegpy2/base.py:551\u001B[0m, in \u001B[0;36m<dictcomp>\u001B[0;34m(.0)\u001B[0m\n\u001B[1;32m    544\u001B[0m topomap_args\u001B[38;5;241m.\u001B[39msetdefault(\u001B[38;5;124m\"\u001B[39m\u001B[38;5;124mvlim\u001B[39m\u001B[38;5;124m\"\u001B[39m, [\u001B[38;5;28;01mNone\u001B[39;00m, \u001B[38;5;28;01mNone\u001B[39;00m])\n\u001B[1;32m    546\u001B[0m \u001B[38;5;28;01mif\u001B[39;00m stages_to_plot \u001B[38;5;241m==\u001B[39m \u001B[38;5;124m\"\u001B[39m\u001B[38;5;124mall\u001B[39m\u001B[38;5;124m\"\u001B[39m:\n\u001B[1;32m    547\u001B[0m     \u001B[38;5;66;03m# Get all stages the events were detected for.\u001B[39;00m\n\u001B[1;32m    548\u001B[0m     stages_to_plot \u001B[38;5;241m=\u001B[39m {\n\u001B[1;32m    549\u001B[0m         k: v\n\u001B[1;32m    550\u001B[0m         \u001B[38;5;28;01mfor\u001B[39;00m k, v \u001B[38;5;129;01min\u001B[39;00m sleep_stages\u001B[38;5;241m.\u001B[39mitems()\n\u001B[0;32m--> 551\u001B[0m         \u001B[38;5;28;01mif\u001B[39;00m v \u001B[38;5;129;01min\u001B[39;00m \u001B[38;5;28mself\u001B[39m\u001B[38;5;241m.\u001B[39mresults\u001B[38;5;241m.\u001B[39msummary()[\u001B[38;5;124m\"\u001B[39m\u001B[38;5;124mStage\u001B[39m\u001B[38;5;124m\"\u001B[39m]\u001B[38;5;241m.\u001B[39munique()\n\u001B[1;32m    552\u001B[0m     }\n\u001B[1;32m    553\u001B[0m n_rows \u001B[38;5;241m=\u001B[39m \u001B[38;5;28mlen\u001B[39m(stages_to_plot)\n\u001B[1;32m    554\u001B[0m n_cols \u001B[38;5;241m=\u001B[39m \u001B[38;5;28mlen\u001B[39m(props)\n",
      "\u001B[0;31mAttributeError\u001B[0m: 'SlowWavesPipe' object has no attribute 'results'"
     ]
    }
   ],
   "execution_count": 9
  },
  {
   "attachments": {},
   "cell_type": "markdown",
   "metadata": {},
   "source": [
    "Constructs MNE [AverageTFR](https://mne.tools/stable/generated/mne.time_frequency.AverageTFR.html) object for every available sleep stage."
   ]
  },
  {
   "cell_type": "code",
   "metadata": {
    "ExecuteTime": {
     "end_time": "2024-08-06T08:01:23.417279Z",
     "start_time": "2024-08-06T08:01:23.368602Z"
    }
   },
   "source": [
    "slow_waves_pipe.compute_tfr(\n",
    "    freqs=(0.5, 5),  # Interval of frequencies of interest.\n",
    "    n_freqs=100,  # TFR frequency resolution.\n",
    "    time_before=4,  # Time in sec before the peak to use in TFR computation. Should be positive.\n",
    "    time_after=4,  # Time in sec after the peak to use in TFR computation.\n",
    "    method=\"morlet\",  # TFR method: 'morlet' or 'multitaper'.\n",
    "    save=True,  # Whether to save AverageTFR object per sleep stage as hdf5 file.\n",
    "    overwrite=False,  # Whether to overwrite existing files.\n",
    "    n_cycles=2,\n",
    ")\n",
    "\n",
    "slow_waves_pipe.tfrs"
   ],
   "outputs": [
    {
     "ename": "AttributeError",
     "evalue": "'SlowWavesPipe' object has no attribute 'results'",
     "output_type": "error",
     "traceback": [
      "\u001B[0;31m---------------------------------------------------------------------------\u001B[0m",
      "\u001B[0;31mAttributeError\u001B[0m                            Traceback (most recent call last)",
      "Cell \u001B[0;32mIn[10], line 1\u001B[0m\n\u001B[0;32m----> 1\u001B[0m slow_waves_pipe\u001B[38;5;241m.\u001B[39mcompute_tfr(\n\u001B[1;32m      2\u001B[0m     freqs\u001B[38;5;241m=\u001B[39m(\u001B[38;5;241m0.5\u001B[39m, \u001B[38;5;241m5\u001B[39m),  \u001B[38;5;66;03m# Interval of frequencies of interest.\u001B[39;00m\n\u001B[1;32m      3\u001B[0m     n_freqs\u001B[38;5;241m=\u001B[39m\u001B[38;5;241m100\u001B[39m,  \u001B[38;5;66;03m# TFR frequency resolution.\u001B[39;00m\n\u001B[1;32m      4\u001B[0m     time_before\u001B[38;5;241m=\u001B[39m\u001B[38;5;241m4\u001B[39m,  \u001B[38;5;66;03m# Time in sec before the peak to use in TFR computation. Should be positive.\u001B[39;00m\n\u001B[1;32m      5\u001B[0m     time_after\u001B[38;5;241m=\u001B[39m\u001B[38;5;241m4\u001B[39m,  \u001B[38;5;66;03m# Time in sec after the peak to use in TFR computation.\u001B[39;00m\n\u001B[1;32m      6\u001B[0m     method\u001B[38;5;241m=\u001B[39m\u001B[38;5;124m\"\u001B[39m\u001B[38;5;124mmorlet\u001B[39m\u001B[38;5;124m\"\u001B[39m,  \u001B[38;5;66;03m# TFR method: 'morlet' or 'multitaper'.\u001B[39;00m\n\u001B[1;32m      7\u001B[0m     save\u001B[38;5;241m=\u001B[39m\u001B[38;5;28;01mTrue\u001B[39;00m,  \u001B[38;5;66;03m# Whether to save AverageTFR object per sleep stage as hdf5 file.\u001B[39;00m\n\u001B[1;32m      8\u001B[0m     overwrite\u001B[38;5;241m=\u001B[39m\u001B[38;5;28;01mFalse\u001B[39;00m,  \u001B[38;5;66;03m# Whether to overwrite existing files.\u001B[39;00m\n\u001B[1;32m      9\u001B[0m     n_cycles\u001B[38;5;241m=\u001B[39m\u001B[38;5;241m2\u001B[39m,\n\u001B[1;32m     10\u001B[0m )\n\u001B[1;32m     12\u001B[0m slow_waves_pipe\u001B[38;5;241m.\u001B[39mtfrs\n",
      "File \u001B[0;32m~/Desktop/myProjects/sleeping_lab/repos/sleepeegpy/sleepeegpy2/utils.py:16\u001B[0m, in \u001B[0;36mlogger_wraps.<locals>.wrapper.<locals>.wrapped\u001B[0;34m(self, *args, **kwargs)\u001B[0m\n\u001B[1;32m     11\u001B[0m logger_ \u001B[38;5;241m=\u001B[39m logger\u001B[38;5;241m.\u001B[39mopt(depth\u001B[38;5;241m=\u001B[39m\u001B[38;5;241m1\u001B[39m)\n\u001B[1;32m     12\u001B[0m logger_\u001B[38;5;241m.\u001B[39mlog(\n\u001B[1;32m     13\u001B[0m     level,\n\u001B[1;32m     14\u001B[0m     \u001B[38;5;124mf\u001B[39m\u001B[38;5;124m\"\u001B[39m\u001B[38;5;124mEntering \u001B[39m\u001B[38;5;124m'\u001B[39m\u001B[38;5;132;01m{\u001B[39;00m\u001B[38;5;28mself\u001B[39m\u001B[38;5;241m.\u001B[39m\u001B[38;5;18m__class__\u001B[39m\u001B[38;5;241m.\u001B[39m\u001B[38;5;18m__name__\u001B[39m\u001B[38;5;132;01m}\u001B[39;00m\u001B[38;5;124m.\u001B[39m\u001B[38;5;132;01m{\u001B[39;00mname\u001B[38;5;132;01m}\u001B[39;00m\u001B[38;5;124m'\u001B[39m\u001B[38;5;124m (args=\u001B[39m\u001B[38;5;132;01m{\u001B[39;00margs\u001B[38;5;132;01m}\u001B[39;00m\u001B[38;5;124m, kwargs=\u001B[39m\u001B[38;5;132;01m{\u001B[39;00mkwargs\u001B[38;5;132;01m}\u001B[39;00m\u001B[38;5;124m)\u001B[39m\u001B[38;5;124m\"\u001B[39m,\n\u001B[1;32m     15\u001B[0m )\n\u001B[0;32m---> 16\u001B[0m result \u001B[38;5;241m=\u001B[39m func(\u001B[38;5;28mself\u001B[39m, \u001B[38;5;241m*\u001B[39margs, \u001B[38;5;241m*\u001B[39m\u001B[38;5;241m*\u001B[39mkwargs)\n\u001B[1;32m     18\u001B[0m \u001B[38;5;28;01mreturn\u001B[39;00m result\n",
      "File \u001B[0;32m~/Desktop/myProjects/sleeping_lab/repos/sleepeegpy/sleepeegpy2/base.py:665\u001B[0m, in \u001B[0;36mBaseEventPipe.compute_tfr\u001B[0;34m(self, freqs, n_freqs, time_before, time_after, method, save, overwrite, **tfr_kwargs)\u001B[0m\n\u001B[1;32m    640\u001B[0m \u001B[38;5;129m@logger_wraps\u001B[39m()\n\u001B[1;32m    641\u001B[0m \u001B[38;5;28;01mdef\u001B[39;00m \u001B[38;5;21mcompute_tfr\u001B[39m(\n\u001B[1;32m    642\u001B[0m     \u001B[38;5;28mself\u001B[39m,\n\u001B[0;32m   (...)\u001B[0m\n\u001B[1;32m    650\u001B[0m     \u001B[38;5;241m*\u001B[39m\u001B[38;5;241m*\u001B[39mtfr_kwargs,\n\u001B[1;32m    651\u001B[0m ):\n\u001B[1;32m    652\u001B[0m \u001B[38;5;250m    \u001B[39m\u001B[38;5;124;03m\"\"\"Transforms the events signal to time-frequency representation.\u001B[39;00m\n\u001B[1;32m    653\u001B[0m \n\u001B[1;32m    654\u001B[0m \u001B[38;5;124;03m    Args:\u001B[39;00m\n\u001B[0;32m   (...)\u001B[0m\n\u001B[1;32m    663\u001B[0m \u001B[38;5;124;03m            or :py:func:`mne:mne.time_frequency.tfr_array_multitaper`.\u001B[39;00m\n\u001B[1;32m    664\u001B[0m \u001B[38;5;124;03m    \"\"\"\u001B[39;00m\n\u001B[0;32m--> 665\u001B[0m     \u001B[38;5;28;01mif\u001B[39;00m \u001B[38;5;129;01mnot\u001B[39;00m \u001B[38;5;28mself\u001B[39m\u001B[38;5;241m.\u001B[39mresults:\n\u001B[1;32m    666\u001B[0m         \u001B[38;5;28;01mraise\u001B[39;00m \u001B[38;5;167;01mAttributeError\u001B[39;00m(\u001B[38;5;124m\"\u001B[39m\u001B[38;5;124mRun the detect method first\u001B[39m\u001B[38;5;124m\"\u001B[39m)\n\u001B[1;32m    667\u001B[0m     \u001B[38;5;28;01mif\u001B[39;00m \u001B[38;5;129;01mnot\u001B[39;00m (method \u001B[38;5;241m==\u001B[39m \u001B[38;5;124m\"\u001B[39m\u001B[38;5;124mmorlet\u001B[39m\u001B[38;5;124m\"\u001B[39m \u001B[38;5;129;01mor\u001B[39;00m method \u001B[38;5;241m==\u001B[39m \u001B[38;5;124m\"\u001B[39m\u001B[38;5;124mmultitaper\u001B[39m\u001B[38;5;124m\"\u001B[39m):\n",
      "\u001B[0;31mAttributeError\u001B[0m: 'SlowWavesPipe' object has no attribute 'results'"
     ]
    }
   ],
   "execution_count": 10
  },
  {
   "cell_type": "code",
   "metadata": {
    "ExecuteTime": {
     "end_time": "2024-08-06T08:01:29.299247Z",
     "start_time": "2024-08-06T08:01:29.284782Z"
    }
   },
   "source": [
    "slow_waves_pipe.tfrs[\"N2\"].data"
   ],
   "outputs": [
    {
     "ename": "AttributeError",
     "evalue": "'SlowWavesPipe' object has no attribute 'tfrs'",
     "output_type": "error",
     "traceback": [
      "\u001B[0;31m---------------------------------------------------------------------------\u001B[0m",
      "\u001B[0;31mAttributeError\u001B[0m                            Traceback (most recent call last)",
      "Cell \u001B[0;32mIn[11], line 1\u001B[0m\n\u001B[0;32m----> 1\u001B[0m slow_waves_pipe\u001B[38;5;241m.\u001B[39mtfrs[\u001B[38;5;124m\"\u001B[39m\u001B[38;5;124mN2\u001B[39m\u001B[38;5;124m\"\u001B[39m]\u001B[38;5;241m.\u001B[39mdata\n",
      "\u001B[0;31mAttributeError\u001B[0m: 'SlowWavesPipe' object has no attribute 'tfrs'"
     ]
    }
   ],
   "execution_count": 11
  },
  {
   "cell_type": "code",
   "metadata": {
    "ExecuteTime": {
     "end_time": "2024-08-06T08:01:32.325566Z",
     "start_time": "2024-08-06T08:01:32.312834Z"
    }
   },
   "source": [
    "slow_waves_pipe.tfrs[\"N2\"].to_data_frame()"
   ],
   "outputs": [
    {
     "ename": "AttributeError",
     "evalue": "'SlowWavesPipe' object has no attribute 'tfrs'",
     "output_type": "error",
     "traceback": [
      "\u001B[0;31m---------------------------------------------------------------------------\u001B[0m",
      "\u001B[0;31mAttributeError\u001B[0m                            Traceback (most recent call last)",
      "Cell \u001B[0;32mIn[12], line 1\u001B[0m\n\u001B[0;32m----> 1\u001B[0m slow_waves_pipe\u001B[38;5;241m.\u001B[39mtfrs[\u001B[38;5;124m\"\u001B[39m\u001B[38;5;124mN2\u001B[39m\u001B[38;5;124m\"\u001B[39m]\u001B[38;5;241m.\u001B[39mto_data_frame()\n",
      "\u001B[0;31mAttributeError\u001B[0m: 'SlowWavesPipe' object has no attribute 'tfrs'"
     ]
    }
   ],
   "execution_count": 12
  },
  {
   "cell_type": "code",
   "metadata": {
    "ExecuteTime": {
     "end_time": "2024-08-06T08:01:33.122977Z",
     "start_time": "2024-08-06T08:01:33.107985Z"
    }
   },
   "source": [
    "slow_waves_pipe.tfrs[\"N2\"].plot([\"E101\"]),\n",
    "slow_waves_pipe.tfrs[\"N3\"].plot([\"E101\"])"
   ],
   "outputs": [
    {
     "ename": "AttributeError",
     "evalue": "'SlowWavesPipe' object has no attribute 'tfrs'",
     "output_type": "error",
     "traceback": [
      "\u001B[0;31m---------------------------------------------------------------------------\u001B[0m",
      "\u001B[0;31mAttributeError\u001B[0m                            Traceback (most recent call last)",
      "Cell \u001B[0;32mIn[13], line 1\u001B[0m\n\u001B[0;32m----> 1\u001B[0m slow_waves_pipe\u001B[38;5;241m.\u001B[39mtfrs[\u001B[38;5;124m\"\u001B[39m\u001B[38;5;124mN2\u001B[39m\u001B[38;5;124m\"\u001B[39m]\u001B[38;5;241m.\u001B[39mplot([\u001B[38;5;124m\"\u001B[39m\u001B[38;5;124mE101\u001B[39m\u001B[38;5;124m\"\u001B[39m]),\n\u001B[1;32m      2\u001B[0m slow_waves_pipe\u001B[38;5;241m.\u001B[39mtfrs[\u001B[38;5;124m\"\u001B[39m\u001B[38;5;124mN3\u001B[39m\u001B[38;5;124m\"\u001B[39m]\u001B[38;5;241m.\u001B[39mplot([\u001B[38;5;124m\"\u001B[39m\u001B[38;5;124mE101\u001B[39m\u001B[38;5;124m\"\u001B[39m])\n",
      "\u001B[0;31mAttributeError\u001B[0m: 'SlowWavesPipe' object has no attribute 'tfrs'"
     ]
    }
   ],
   "execution_count": 13
  },
  {
   "attachments": {},
   "cell_type": "markdown",
   "metadata": {},
   "source": [
    "If you want to load saved TFR files:"
   ]
  },
  {
   "cell_type": "code",
   "metadata": {
    "ExecuteTime": {
     "end_time": "2024-08-06T08:01:51.546381Z",
     "start_time": "2024-08-06T08:01:51.543318Z"
    }
   },
   "source": "slow_waves_pipe.read_tfrs(dirpath=None)",
   "outputs": [],
   "execution_count": 15
  }
 ],
 "metadata": {
  "kernelspec": {
   "display_name": ".venv",
   "language": "python",
   "name": "python3"
  },
  "language_info": {
   "codemirror_mode": {
    "name": "ipython",
    "version": 3
   },
   "file_extension": ".py",
   "mimetype": "text/x-python",
   "name": "python",
   "nbconvert_exporter": "python",
   "pygments_lexer": "ipython3",
   "version": "3.11.6"
  },
  "orig_nbformat": 4
 },
 "nbformat": 4,
 "nbformat_minor": 2
}
