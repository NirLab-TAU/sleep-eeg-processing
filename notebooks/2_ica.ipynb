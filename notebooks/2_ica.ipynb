{
 "cells": [
  {
   "attachments": {},
   "cell_type": "markdown",
   "metadata": {},
   "source": [
    "# ICA"
   ]
  },
  {
   "attachments": {},
   "cell_type": "markdown",
   "metadata": {},
   "source": [
    "## Introductory notes:\n",
    "This notebook presents ICA artifact repairment functionality:\n",
    "* Fitting ICA\n",
    "* Exploring components\n",
    "* Excluding components from the raw data\n",
    "\n",
    "Recommended reading:\n",
    "1. [MNE: Repairing artifacts with ICA](https://mne.tools/stable/auto_tutorials/preprocessing/40_artifact_correction_ica.html)\n",
    "2. [Learning eeg: artifacts](https://www.learningeeg.com/artifacts)"
   ]
  },
  {
   "attachments": {},
   "cell_type": "markdown",
   "metadata": {},
   "source": [
    "## Import data"
   ]
  },
  {
   "attachments": {},
   "cell_type": "markdown",
   "metadata": {},
   "source": [
    "### Import module"
   ]
  },
  {
   "cell_type": "code",
   "metadata": {},
   "source": [
    "from sleepeegpy.pipeline import ICAPipe\n",
    "from os import makedirs, path"
   ],
   "outputs": [],
   "execution_count": null
  },
  {
   "attachments": {},
   "cell_type": "markdown",
   "metadata": {},
   "source": "### Initialize ICAPipe object"
  },
  {
   "metadata": {},
   "cell_type": "markdown",
   "source": [
    "If you wish to change the path for output_dir ot input dir, change it below.\n",
    "If no such folders, they will be created automatically."
   ]
  },
  {
   "metadata": {},
   "cell_type": "code",
   "outputs": [],
   "execution_count": null,
   "source": [
    "output_dir = \"output_folder\"  # Output path and name can be changed here\n",
    "input_dir = \"input_files\"  # input files dir can be changed here\n",
    "makedirs(input_dir, exist_ok=True)\n",
    "makedirs(output_dir, exist_ok=True)"
   ]
  },
  {
   "metadata": {},
   "cell_type": "markdown",
   "source": [
    "#### Add required files\n",
    "* Put all your files in the input folder.\n",
    "* Modify your eeg file name below. The file can be any format supported by the mne.read_raw() function.\n",
    "* For more information about the supported formats, see [mne documentation](https://mne.tools/stable/generated/mne.io.Raw.html)"
   ]
  },
  {
   "metadata": {},
   "cell_type": "code",
   "outputs": [],
   "execution_count": null,
   "source": [
    "eeg_file_name = \"resampled_raw.fif\"\n",
    "ica_file_name = (\n",
    "    None  # If you want to load already fitted ICA - replace None with the file name.\n",
    ")"
   ]
  },
  {
   "cell_type": "code",
   "metadata": {},
   "source": [
    "path_to_eeg = path.join(input_dir, eeg_file_name)\n",
    "path_to_ica = path.join(input_dir, ica_file_name) if ica_file_name else None\n",
    "\n",
    "ica_pipe = ICAPipe(\n",
    "    # can be any type of eeg file that MNE's read_raw() function supports.\n",
    "    path_to_eeg=path_to_eeg,\n",
    "    output_dir=output_dir,\n",
    "    method=\"fastica\",  # ICA method, can be either 'fastica', 'infomax' or 'picard'\n",
    "    fit_params=None,  # Additional parameters passed to the ICA estimator as specified by 'method'.\n",
    "    n_components=40,  # was 40,  Number of principal components that are passed to the ICA algorithm during fitting.\n",
    "    random_state=120,  # A seed for the NumPy random number generator (RNG).\n",
    "    path_to_ica=path_to_ica,\n",
    ")"
   ],
   "outputs": [],
   "execution_count": null
  },
  {
   "attachments": {},
   "cell_type": "markdown",
   "metadata": {},
   "source": [
    "## Fit\n",
    "Run the ICA decomposition on 1 Hz high-pass filtered data"
   ]
  },
  {
   "cell_type": "code",
   "metadata": {},
   "source": "ica_pipe.fit(filter_kwargs=dict(l_freq=1.0, h_freq=None, n_jobs=-1))",
   "outputs": [],
   "execution_count": null
  },
  {
   "attachments": {},
   "cell_type": "markdown",
   "metadata": {},
   "source": [
    "## Explore"
   ]
  },
  {
   "attachments": {},
   "cell_type": "markdown",
   "metadata": {},
   "source": [
    "Plot independent components from raw data, you can select here components you want to exclude."
   ]
  },
  {
   "cell_type": "code",
   "metadata": {},
   "source": [
    "ica_pipe.plot_sources()"
   ],
   "outputs": [],
   "execution_count": null
  },
  {
   "attachments": {},
   "cell_type": "markdown",
   "metadata": {},
   "source": [
    "Plot components on interpolated sensor topography."
   ]
  },
  {
   "cell_type": "code",
   "metadata": {},
   "source": [
    "_ = ica_pipe.plot_components()"
   ],
   "outputs": [],
   "execution_count": null
  },
  {
   "attachments": {},
   "cell_type": "markdown",
   "metadata": {},
   "source": [
    "Display component properties."
   ]
  },
  {
   "cell_type": "code",
   "metadata": {},
   "source": [
    "_ = ica_pipe.plot_properties(picks=[7], psd_args=dict(fmin=0, fmax=40))"
   ],
   "outputs": [],
   "execution_count": null
  },
  {
   "attachments": {},
   "cell_type": "markdown",
   "metadata": {},
   "source": [
    "## Exclude\n",
    "Apply to the raw signal ICA component exclusion."
   ]
  },
  {
   "cell_type": "code",
   "metadata": {},
   "source": [
    "ica_pipe.apply()"
   ],
   "outputs": [],
   "execution_count": null
  },
  {
   "attachments": {},
   "cell_type": "markdown",
   "metadata": {},
   "source": [
    "## Save repaired EEG signal and ica solution"
   ]
  },
  {
   "cell_type": "code",
   "metadata": {},
   "source": [
    "ica_pipe.save_raw(\"after_ica_raw.fif\", overwrite=True)"
   ],
   "outputs": [],
   "execution_count": null
  },
  {
   "cell_type": "code",
   "metadata": {},
   "source": [
    "ica_pipe.save_ica(fname=\"exclude-ica.fif\", overwrite=True)"
   ],
   "outputs": [],
   "execution_count": null
  }
 ],
 "metadata": {
  "kernelspec": {
   "display_name": "Python 3",
   "language": "python",
   "name": "python3"
  },
  "language_info": {
   "codemirror_mode": {
    "name": "ipython",
    "version": 3
   },
   "file_extension": ".py",
   "mimetype": "text/x-python",
   "name": "python",
   "nbconvert_exporter": "python",
   "pygments_lexer": "ipython3",
   "version": "3.11.9"
  },
  "vscode": {
   "interpreter": {
    "hash": "e7e6a3ad0af7de53e72789e0b82b3fd5c64743c0f9fcf843fd4113b6e74b9b71"
   }
  }
 },
 "nbformat": 4,
 "nbformat_minor": 4
}
