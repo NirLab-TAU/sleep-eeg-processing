{
 "cells": [
  {
   "attachments": {},
   "cell_type": "markdown",
   "metadata": {},
   "source": [
    "# Spindles analysis"
   ]
  },
  {
   "attachments": {},
   "cell_type": "markdown",
   "metadata": {},
   "source": [
    "## Introductory notes:\n",
    "This notebook presents spindles detection and analysis functionality.\n",
    "\n",
    "Recommended reading:\n",
    "1. [YASA: FAQ](https://raphaelvallat.com/yasa/build/html/faq.html#event-detection)\n",
    "2. [YASA: Spindles detection on specific sleep stages](https://github.com/raphaelvallat/yasa/blob/master/notebooks/03_spindles_detection_NREM_only.ipynb)\n",
    "3. [YASA: SpindlesResults class](https://raphaelvallat.com/yasa/build/html/generated/yasa.SpindlesResults.html#yasa.SpindlesResults)\n",
    "4. [MNE: Time-frequency analysis: power and inter-trial coherence](https://mne.tools/stable/auto_tutorials/time-freq/20_sensors_time_frequency.html#time-frequency-analysis-power-and-inter-trial-coherence)\n",
    "5. [MNE: AverageTFR class](https://mne.tools/stable/generated/mne.time_frequency.AverageTFR.html#mne-time-frequency-averagetfr)"
   ]
  },
  {
   "attachments": {},
   "cell_type": "markdown",
   "metadata": {},
   "source": [
    "## Import module"
   ]
  },
  {
   "cell_type": "code",
   "metadata": {},
   "source": [
    "from sleepeegpy.pipeline import SpindlesPipe\n",
    "from joblib import parallel_backend\n",
    "\n",
    "parallel_backend(\"loky\", n_jobs=-1)\n",
    "from os import makedirs, path"
   ],
   "outputs": [],
   "execution_count": null
  },
  {
   "attachments": {},
   "cell_type": "markdown",
   "metadata": {},
   "source": [
    "## Spindles detection"
   ]
  },
  {
   "metadata": {},
   "cell_type": "markdown",
   "source": [
    "If you wish to change the path for output_dir ot input dir, change it below.\n",
    "If no such folders, they will be created automatically."
   ]
  },
  {
   "metadata": {},
   "cell_type": "code",
   "source": [
    "output_dir = \"output_folder\"  # Output path and name can be changed here\n",
    "input_dir = \"input_files\"  # input files dir can be changed here\n",
    "makedirs(input_dir, exist_ok=True)\n",
    "makedirs(output_dir, exist_ok=True)"
   ],
   "outputs": [],
   "execution_count": null
  },
  {
   "metadata": {},
   "cell_type": "markdown",
   "source": [
    "#### Add required files and data\n",
    "* Put all your files in the input folder.\n",
    "* Modify your eeg file name below. The file can be any format supported by the mne.read_raw() function.\n",
    "* Modify your hypnogram file name below\n",
    "* Make sure the hypno_freq is the right frequency.\n",
    "* For more information about the supported formats, see [mne documentation](https://mne.tools/stable/generated/mne.io.Raw.html)"
   ]
  },
  {
   "metadata": {},
   "cell_type": "code",
   "source": [
    "eeg_file_name = \"resampled_raw.fif\"  # add your eeg_path here\n",
    "hypnogram_filename = \"staging.txt\"  # Hypnogram filename can be changed here (file must be in the input dir)\n",
    "hypno_freq = 1"
   ],
   "outputs": [],
   "execution_count": null
  },
  {
   "cell_type": "code",
   "metadata": {},
   "source": [
    "path_to_eeg = path.join(input_dir, eeg_file_name)\n",
    "hypnogram_path = path.join(input_dir, hypnogram_filename)\n",
    "spindles_pipe = SpindlesPipe(\n",
    "    path_to_eeg=path_to_eeg,\n",
    "    output_dir=output_dir,\n",
    "    path_to_hypno=hypnogram_path,\n",
    "    hypno_freq=hypno_freq,\n",
    ")"
   ],
   "outputs": [],
   "execution_count": null
  },
  {
   "attachments": {},
   "cell_type": "markdown",
   "metadata": {},
   "source": [
    "Please refer to the YASA's [documentation](https://raphaelvallat.com/yasa/build/html/generated/yasa.spindles_detect.html) for details about the arguments."
   ]
  },
  {
   "cell_type": "code",
   "metadata": {
    "jupyter": {
     "is_executing": true
    }
   },
   "source": [
    "spindles_pipe.detect(\n",
    "    picks=[\"eeg\"],\n",
    "    reference=\"average\",\n",
    "    include=(2, 3),\n",
    "    freq_sp=(12, 15),\n",
    "    freq_broad=(1, 30),\n",
    "    duration=(0.5, 2),\n",
    "    min_distance=500,\n",
    "    thresh={\"corr\": 0.65, \"rel_pow\": 0.2, \"rms\": 1.5},\n",
    "    multi_only=False,\n",
    "    remove_outliers=False,\n",
    "    verbose=False,\n",
    "    save=True,\n",
    ")"
   ],
   "outputs": [],
   "execution_count": null
  },
  {
   "attachments": {},
   "cell_type": "markdown",
   "metadata": {},
   "source": [
    "Please refer to the YASA's [documentation](https://raphaelvallat.com/yasa/build/html/generated/yasa.SpindlesResults.html#yasa.SpindlesResults.summary) for details about the arguments."
   ]
  },
  {
   "cell_type": "code",
   "metadata": {},
   "source": [
    "spindles_pipe.results.summary(\n",
    "    grp_chan=False, grp_stage=True, mask=None, aggfunc=\"mean\", sort=True\n",
    ")"
   ],
   "outputs": [],
   "execution_count": null
  },
  {
   "cell_type": "code",
   "metadata": {},
   "source": [
    "spindles_pipe.plot_average(\n",
    "    save=True,\n",
    "    center=\"Peak\",\n",
    "    hue=\"Stage\",\n",
    "    time_before=1,\n",
    "    time_after=1,\n",
    "    filt=(None, None),\n",
    "    mask=None,\n",
    ")"
   ],
   "outputs": [],
   "execution_count": null
  },
  {
   "cell_type": "code",
   "metadata": {},
   "source": [
    "spindles_pipe.plot_topomap(\n",
    "    prop=\"Frequency\",  #  Any of the event properties returned by pipe.results.summary().\n",
    "    stage=\"N2\",  # Stage to plot the topomap for.\n",
    "    aggfunc=\"mean\",  # Aggregation function for channel grouping.\n",
    "    # Should contain at least index of the provided \"stage\".\n",
    "    sleep_stages={\"Wake\": 0, \"N1\": 1, \"N2\": 2, \"N3\": 3, \"REM\": 4},\n",
    "    axis=None,  # Whether to plot on provided matplotlib axis.\n",
    "    save=True,  # Whether to save the plot as a file.\n",
    "    topomap_args=dict(cmap=\"plasma\"),  # Arguments passed to mne.viz.plot_topomap().\n",
    "    cbar_args=None,  # Arguments passed to plt.colorbar().\n",
    ")"
   ],
   "outputs": [],
   "execution_count": null
  },
  {
   "cell_type": "code",
   "metadata": {},
   "source": [
    "spindles_pipe.plot_topomap_collage(\n",
    "    # Some of the event properties returned by pipe.results.summary().\n",
    "    props=[\"Amplitude\", \"Frequency\", \"Duration\"],\n",
    "    aggfunc=\"mean\",  # Aggregation function for channel grouping.\n",
    "    # Tuple of strs or \"all\", e.g., (\"N1\", \"REM\") or \"all\" (plots all \"sleep_stages\").\n",
    "    stages_to_plot=\"all\",\n",
    "    # Should contain at least indices of the provided \"stages_to_plot\".\n",
    "    sleep_stages={\"N2\": 2, \"N3\": 3},\n",
    "    low_percentile=5,  # Set min color value by percentile of the property data.\n",
    "    high_percentile=95,  # Set max color value by percentile of the property data.\n",
    "    fig=None,  # Instance of plt.Figure, a new fig will be created if None.\n",
    "    save=True,  # Whether to save the plot as a file.\n",
    "    topomap_args=dict(cmap=\"plasma\"),  # Arguments passed to mne.viz.plot_topomap().\n",
    "    cbar_args=None,  # Arguments passed to plt.colorbar().\n",
    ")"
   ],
   "outputs": [],
   "execution_count": null
  },
  {
   "attachments": {},
   "cell_type": "markdown",
   "metadata": {},
   "source": [
    "Constructs MNE [AverageTFR](https://mne.tools/stable/generated/mne.time_frequency.AverageTFR.html) object for every available sleep stage."
   ]
  },
  {
   "cell_type": "code",
   "metadata": {},
   "source": [
    "spindles_pipe.compute_tfr(\n",
    "    freqs=(10, 20),  # Interval of frequencies of interest.\n",
    "    n_freqs=100,  # TFR frequency resolution.\n",
    "    time_before=1,  # Time in sec before the peak to use in TFR computation. Should be positive.\n",
    "    time_after=1,  # Time in sec after the peak to use in TFR computation.\n",
    "    method=\"morlet\",  # TFR method: 'morlet' or 'multitaper'.\n",
    "    save=True,  # Whether to save AverageTFR object per sleep stage as hdf5 file.\n",
    "    overwrite=False,  # Whether to overwrite existing files.\n",
    ")\n",
    "\n",
    "spindles_pipe.tfrs"
   ],
   "outputs": [],
   "execution_count": null
  },
  {
   "cell_type": "code",
   "metadata": {},
   "source": [
    "spindles_pipe.tfrs[\"N2\"].data"
   ],
   "outputs": [],
   "execution_count": null
  },
  {
   "cell_type": "code",
   "metadata": {},
   "source": [
    "spindles_pipe.tfrs[\"N2\"].to_data_frame()"
   ],
   "outputs": [],
   "execution_count": null
  },
  {
   "cell_type": "code",
   "metadata": {},
   "source": [
    "spindles_pipe.tfrs[\"N2\"].plot([\"E101\"]),\n",
    "spindles_pipe.tfrs[\"N3\"].plot([\"E101\"])"
   ],
   "outputs": [],
   "execution_count": null
  },
  {
   "attachments": {},
   "cell_type": "markdown",
   "metadata": {},
   "source": [
    "If you want to load saved TFR files:"
   ]
  },
  {
   "cell_type": "code",
   "metadata": {},
   "source": [
    "spindles_pipe.read_tfrs(dirpath=None)"
   ],
   "outputs": [],
   "execution_count": null
  }
 ],
 "metadata": {
  "kernelspec": {
   "display_name": ".venv",
   "language": "python",
   "name": "python3"
  },
  "language_info": {
   "codemirror_mode": {
    "name": "ipython",
    "version": 3
   },
   "file_extension": ".py",
   "mimetype": "text/x-python",
   "name": "python",
   "nbconvert_exporter": "python",
   "pygments_lexer": "ipython3",
   "version": "3.11.6"
  },
  "orig_nbformat": 4
 },
 "nbformat": 4,
 "nbformat_minor": 2
}
