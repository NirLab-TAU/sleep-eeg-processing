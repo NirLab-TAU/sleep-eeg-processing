{
 "cells": [
  {
   "attachments": {},
   "cell_type": "markdown",
   "metadata": {},
   "source": [
    "# Rapid eye movements analysis"
   ]
  },
  {
   "attachments": {},
   "cell_type": "markdown",
   "metadata": {},
   "source": [
    "## Introductory notes:\n",
    "This notebook presents REMs detection functionality.\n",
    "\n",
    "Recommended reading:\n",
    "1. [YASA: FAQ](https://raphaelvallat.com/yasa/build/html/faq.html#event-detection)\n",
    "2. [YASA: Rapid Eye Movements (REMs) detection](https://github.com/raphaelvallat/yasa/blob/master/notebooks/07_REMs_detection.ipynb)\n",
    "3. [YASA: REMResults class](https://raphaelvallat.com/yasa/build/html/generated/yasa.REMResults.html#yasa.REMResults)"
   ]
  },
  {
   "attachments": {},
   "cell_type": "markdown",
   "metadata": {},
   "source": [
    "## Import module"
   ]
  },
  {
   "cell_type": "code",
   "metadata": {
    "ExecuteTime": {
     "end_time": "2024-08-06T08:14:08.680302Z",
     "start_time": "2024-08-06T08:14:08.665883Z"
    }
   },
   "source": [
    "from sleepeegpy.pipeline import RapidEyeMovementsPipe\n",
    "from os import makedirs,path"
   ],
   "outputs": [],
   "execution_count": 8
  },
  {
   "attachments": {},
   "cell_type": "markdown",
   "metadata": {},
   "source": [
    "## REMs detection"
   ]
  },
  {
   "metadata": {},
   "cell_type": "markdown",
   "source": [
    "If you wish to change the path for output_dir ot input dir, change it below.\n",
    "If no such folders, they will be created automatically."
   ]
  },
  {
   "metadata": {
    "ExecuteTime": {
     "end_time": "2024-08-06T08:13:39.962293Z",
     "start_time": "2024-08-06T08:13:39.958601Z"
    }
   },
   "cell_type": "code",
   "source": [
    "output_dir  = \"output_folder\" # Output path and name can be changed here\n",
    "input_dir = \"input_files\" # input files dir can be changed here\n",
    "makedirs(input_dir, exist_ok=True)\n",
    "makedirs(output_dir, exist_ok=True)"
   ],
   "outputs": [],
   "execution_count": 2
  },
  {
   "metadata": {},
   "cell_type": "markdown",
   "source": [
    "#### Add required files and data\n",
    "* Put all your files in the input folder.\n",
    "* Modify your eeg file name below. The file can be any format supported by the mne.read_raw() function.\n",
    "* Modify your hypnogram file name below\n",
    "* Make sure the hypno_freq is the right frequency.\n",
    "* For more information about the supported formats, see [mne documentation](https://mne.tools/stable/generated/mne.io.Raw.html)"
   ]
  },
  {
   "metadata": {
    "ExecuteTime": {
     "end_time": "2024-08-06T08:13:42.518760Z",
     "start_time": "2024-08-06T08:13:42.515322Z"
    }
   },
   "cell_type": "code",
   "source": [
    "eeg_file_name= \"resampled_raw.fif\" #None # add your eeg_path here\n",
    "hypnogram_filename = \"staging.txt\" # Hypnogram filename can be changed here (file must be in the input dir)\n",
    "hypno_freq = 1"
   ],
   "outputs": [],
   "execution_count": 3
  },
  {
   "cell_type": "code",
   "metadata": {
    "ExecuteTime": {
     "end_time": "2024-08-06T08:13:45.998074Z",
     "start_time": "2024-08-06T08:13:43.208440Z"
    }
   },
   "source": [
    "path_to_eeg = path.join(input_dir,eeg_file_name)\n",
    "hypnogram_path = path.join(input_dir,hypnogram_filename)\n",
    "\n",
    "assert path.isfile(path_to_eeg) and path.isfile(hypnogram_path), f\"{path_to_eeg} or {hypnogram_path} not exist\"\n",
    "rems_pipe = RapidEyeMovementsPipe(\n",
    "    path_to_eeg=path_to_eeg,\n",
    "    output_dir=output_dir,\n",
    "    path_to_hypno=hypnogram_path,\n",
    "    hypno_freq=hypno_freq,\n",
    ")"
   ],
   "outputs": [
    {
     "name": "stdout",
     "output_type": "stream",
     "text": [
      "Opening raw data file input_files/resampled_raw.fif...\n",
      "    Range : 0 ... 1994499 =      0.000 ...  7977.996 secs\n",
      "Ready.\n",
      "Opening raw data file /Users/yardenmezi/Desktop/myProjects/sleeping_lab/repos/sleepeegpy/notebooks/input_files/resampled_raw-1.fif...\n",
      "    Range : 1994500 ... 3988999 =   7978.000 ... 15955.996 secs\n",
      "Ready.\n",
      "Opening raw data file /Users/yardenmezi/Desktop/myProjects/sleeping_lab/repos/sleepeegpy/notebooks/input_files/resampled_raw-2.fif...\n",
      "    Range : 3989000 ... 5983499 =  15956.000 ... 23933.996 secs\n",
      "Ready.\n",
      "Opening raw data file /Users/yardenmezi/Desktop/myProjects/sleeping_lab/repos/sleepeegpy/notebooks/input_files/resampled_raw-3.fif...\n",
      "    Range : 5983500 ... 5985607 =  23934.000 ... 23942.428 secs\n",
      "Ready.\n"
     ]
    },
    {
     "name": "stderr",
     "output_type": "stream",
     "text": [
      "Hypnogram is LONGER than data by 23882.0 seconds. Cropping hypnogram to match data.size.\n"
     ]
    }
   ],
   "execution_count": 4
  },
  {
   "attachments": {},
   "cell_type": "markdown",
   "metadata": {},
   "source": [
    "Please refer to the YASA's [documentation](https://raphaelvallat.com/yasa/build/html/generated/yasa.rem_detect.html) for details about the arguments."
   ]
  },
  {
   "cell_type": "code",
   "metadata": {
    "ExecuteTime": {
     "end_time": "2024-08-06T08:13:52.198217Z",
     "start_time": "2024-08-06T08:13:49.549609Z"
    }
   },
   "source": [
    "rems_pipe.detect(\n",
    "    reference=\"average\",\n",
    "    loc_chname=\"E46\",\n",
    "    roc_chname=\"E238\",\n",
    "    include=4,\n",
    "    freq_rem=(0.5, 5),\n",
    "    duration=(0.3, 1.2),\n",
    "    amplitude=(50, 325),\n",
    "    remove_outliers=False,\n",
    "    save=True,\n",
    ")"
   ],
   "outputs": [
    {
     "name": "stdout",
     "output_type": "stream",
     "text": [
      "Reading 0 ... 15000  =      0.000 ...    60.000 secs...\n",
      "EEG channel type selected for re-referencing\n",
      "Applying average reference.\n",
      "Applying a custom ('EEG',) reference.\n"
     ]
    },
    {
     "ename": "AssertionError",
     "evalue": "None of the stages specified in `include` are present in hypno.",
     "output_type": "error",
     "traceback": [
      "\u001B[0;31m---------------------------------------------------------------------------\u001B[0m",
      "\u001B[0;31mAssertionError\u001B[0m                            Traceback (most recent call last)",
      "Cell \u001B[0;32mIn[5], line 1\u001B[0m\n\u001B[0;32m----> 1\u001B[0m rems_pipe\u001B[38;5;241m.\u001B[39mdetect(\n\u001B[1;32m      2\u001B[0m     reference\u001B[38;5;241m=\u001B[39m\u001B[38;5;124m\"\u001B[39m\u001B[38;5;124maverage\u001B[39m\u001B[38;5;124m\"\u001B[39m,\n\u001B[1;32m      3\u001B[0m     loc_chname\u001B[38;5;241m=\u001B[39m\u001B[38;5;124m\"\u001B[39m\u001B[38;5;124mE46\u001B[39m\u001B[38;5;124m\"\u001B[39m,\n\u001B[1;32m      4\u001B[0m     roc_chname\u001B[38;5;241m=\u001B[39m\u001B[38;5;124m\"\u001B[39m\u001B[38;5;124mE238\u001B[39m\u001B[38;5;124m\"\u001B[39m,\n\u001B[1;32m      5\u001B[0m     include\u001B[38;5;241m=\u001B[39m\u001B[38;5;241m4\u001B[39m,\n\u001B[1;32m      6\u001B[0m     freq_rem\u001B[38;5;241m=\u001B[39m(\u001B[38;5;241m0.5\u001B[39m, \u001B[38;5;241m5\u001B[39m),\n\u001B[1;32m      7\u001B[0m     duration\u001B[38;5;241m=\u001B[39m(\u001B[38;5;241m0.3\u001B[39m, \u001B[38;5;241m1.2\u001B[39m),\n\u001B[1;32m      8\u001B[0m     amplitude\u001B[38;5;241m=\u001B[39m(\u001B[38;5;241m50\u001B[39m, \u001B[38;5;241m325\u001B[39m),\n\u001B[1;32m      9\u001B[0m     remove_outliers\u001B[38;5;241m=\u001B[39m\u001B[38;5;28;01mFalse\u001B[39;00m,\n\u001B[1;32m     10\u001B[0m     save\u001B[38;5;241m=\u001B[39m\u001B[38;5;28;01mTrue\u001B[39;00m,\n\u001B[1;32m     11\u001B[0m )\n",
      "File \u001B[0;32m~/Desktop/myProjects/sleeping_lab/repos/sleepeegpy/sleepeegpy2/utils.py:16\u001B[0m, in \u001B[0;36mlogger_wraps.<locals>.wrapper.<locals>.wrapped\u001B[0;34m(self, *args, **kwargs)\u001B[0m\n\u001B[1;32m     11\u001B[0m logger_ \u001B[38;5;241m=\u001B[39m logger\u001B[38;5;241m.\u001B[39mopt(depth\u001B[38;5;241m=\u001B[39m\u001B[38;5;241m1\u001B[39m)\n\u001B[1;32m     12\u001B[0m logger_\u001B[38;5;241m.\u001B[39mlog(\n\u001B[1;32m     13\u001B[0m     level,\n\u001B[1;32m     14\u001B[0m     \u001B[38;5;124mf\u001B[39m\u001B[38;5;124m\"\u001B[39m\u001B[38;5;124mEntering \u001B[39m\u001B[38;5;124m'\u001B[39m\u001B[38;5;132;01m{\u001B[39;00m\u001B[38;5;28mself\u001B[39m\u001B[38;5;241m.\u001B[39m\u001B[38;5;18m__class__\u001B[39m\u001B[38;5;241m.\u001B[39m\u001B[38;5;18m__name__\u001B[39m\u001B[38;5;132;01m}\u001B[39;00m\u001B[38;5;124m.\u001B[39m\u001B[38;5;132;01m{\u001B[39;00mname\u001B[38;5;132;01m}\u001B[39;00m\u001B[38;5;124m'\u001B[39m\u001B[38;5;124m (args=\u001B[39m\u001B[38;5;132;01m{\u001B[39;00margs\u001B[38;5;132;01m}\u001B[39;00m\u001B[38;5;124m, kwargs=\u001B[39m\u001B[38;5;132;01m{\u001B[39;00mkwargs\u001B[38;5;132;01m}\u001B[39;00m\u001B[38;5;124m)\u001B[39m\u001B[38;5;124m\"\u001B[39m,\n\u001B[1;32m     15\u001B[0m )\n\u001B[0;32m---> 16\u001B[0m result \u001B[38;5;241m=\u001B[39m func(\u001B[38;5;28mself\u001B[39m, \u001B[38;5;241m*\u001B[39margs, \u001B[38;5;241m*\u001B[39m\u001B[38;5;241m*\u001B[39mkwargs)\n\u001B[1;32m     18\u001B[0m \u001B[38;5;28;01mreturn\u001B[39;00m result\n",
      "File \u001B[0;32m~/Desktop/myProjects/sleeping_lab/repos/sleepeegpy/sleepeegpy2/pipeline.py:769\u001B[0m, in \u001B[0;36mRapidEyeMovementsPipe.detect\u001B[0;34m(self, loc_chname, roc_chname, reference, include, freq_rem, duration, amplitude, remove_outliers, save)\u001B[0m\n\u001B[1;32m    767\u001B[0m loc \u001B[38;5;241m=\u001B[39m inst\u001B[38;5;241m.\u001B[39mget_data([loc_chname], units\u001B[38;5;241m=\u001B[39m\u001B[38;5;124m\"\u001B[39m\u001B[38;5;124muV\u001B[39m\u001B[38;5;124m\"\u001B[39m, reject_by_annotation\u001B[38;5;241m=\u001B[39m\u001B[38;5;124m\"\u001B[39m\u001B[38;5;124mNaN\u001B[39m\u001B[38;5;124m\"\u001B[39m)\n\u001B[1;32m    768\u001B[0m roc \u001B[38;5;241m=\u001B[39m inst\u001B[38;5;241m.\u001B[39mget_data([roc_chname], units\u001B[38;5;241m=\u001B[39m\u001B[38;5;124m\"\u001B[39m\u001B[38;5;124muV\u001B[39m\u001B[38;5;124m\"\u001B[39m, reject_by_annotation\u001B[38;5;241m=\u001B[39m\u001B[38;5;124m\"\u001B[39m\u001B[38;5;124mNaN\u001B[39m\u001B[38;5;124m\"\u001B[39m)\n\u001B[0;32m--> 769\u001B[0m \u001B[38;5;28mself\u001B[39m\u001B[38;5;241m.\u001B[39mresults \u001B[38;5;241m=\u001B[39m rem_detect(\n\u001B[1;32m    770\u001B[0m     loc\u001B[38;5;241m=\u001B[39mloc,\n\u001B[1;32m    771\u001B[0m     roc\u001B[38;5;241m=\u001B[39mroc,\n\u001B[1;32m    772\u001B[0m     sf\u001B[38;5;241m=\u001B[39m\u001B[38;5;28mself\u001B[39m\u001B[38;5;241m.\u001B[39msf,\n\u001B[1;32m    773\u001B[0m     hypno\u001B[38;5;241m=\u001B[39m\u001B[38;5;28mself\u001B[39m\u001B[38;5;241m.\u001B[39mhypno_up,\n\u001B[1;32m    774\u001B[0m     verbose\u001B[38;5;241m=\u001B[39m\u001B[38;5;28;01mFalse\u001B[39;00m,\n\u001B[1;32m    775\u001B[0m     include\u001B[38;5;241m=\u001B[39minclude,\n\u001B[1;32m    776\u001B[0m     freq_rem\u001B[38;5;241m=\u001B[39mfreq_rem,\n\u001B[1;32m    777\u001B[0m     duration\u001B[38;5;241m=\u001B[39mduration,\n\u001B[1;32m    778\u001B[0m     amplitude\u001B[38;5;241m=\u001B[39mamplitude,\n\u001B[1;32m    779\u001B[0m     remove_outliers\u001B[38;5;241m=\u001B[39mremove_outliers,\n\u001B[1;32m    780\u001B[0m )\n\u001B[1;32m    781\u001B[0m \u001B[38;5;28;01mif\u001B[39;00m save:\n\u001B[1;32m    782\u001B[0m     \u001B[38;5;28mself\u001B[39m\u001B[38;5;241m.\u001B[39m_save_to_csv()\n",
      "File \u001B[0;32m~/miniconda3/envs/notebook/lib/python3.11/site-packages/yasa/detection.py:2475\u001B[0m, in \u001B[0;36mrem_detect\u001B[0;34m(loc, roc, sf, hypno, include, amplitude, duration, relative_prominence, freq_rem, remove_outliers, verbose)\u001B[0m\n\u001B[1;32m   2472\u001B[0m \u001B[38;5;28;01massert\u001B[39;00m loc\u001B[38;5;241m.\u001B[39msize \u001B[38;5;241m==\u001B[39m roc\u001B[38;5;241m.\u001B[39msize, \u001B[38;5;124m\"\u001B[39m\u001B[38;5;124mLOC and ROC must have the same size.\u001B[39m\u001B[38;5;124m\"\u001B[39m\n\u001B[1;32m   2473\u001B[0m data \u001B[38;5;241m=\u001B[39m np\u001B[38;5;241m.\u001B[39mvstack((loc, roc))\n\u001B[0;32m-> 2475\u001B[0m (data, sf, ch_names, hypno, include, mask, n_chan, n_samples, bad_chan) \u001B[38;5;241m=\u001B[39m _check_data_hypno(\n\u001B[1;32m   2476\u001B[0m     data, sf, [\u001B[38;5;124m\"\u001B[39m\u001B[38;5;124mLOC\u001B[39m\u001B[38;5;124m\"\u001B[39m, \u001B[38;5;124m\"\u001B[39m\u001B[38;5;124mROC\u001B[39m\u001B[38;5;124m\"\u001B[39m], hypno, include\n\u001B[1;32m   2477\u001B[0m )\n\u001B[1;32m   2479\u001B[0m \u001B[38;5;66;03m# If all channels are bad\u001B[39;00m\n\u001B[1;32m   2480\u001B[0m \u001B[38;5;28;01mif\u001B[39;00m \u001B[38;5;28many\u001B[39m(bad_chan):\n",
      "File \u001B[0;32m~/miniconda3/envs/notebook/lib/python3.11/site-packages/yasa/detection.py:89\u001B[0m, in \u001B[0;36m_check_data_hypno\u001B[0;34m(data, sf, ch_names, hypno, include, check_amp)\u001B[0m\n\u001B[1;32m     87\u001B[0m     \u001B[38;5;28;01massert\u001B[39;00m include\u001B[38;5;241m.\u001B[39msize \u001B[38;5;241m>\u001B[39m\u001B[38;5;241m=\u001B[39m \u001B[38;5;241m1\u001B[39m, \u001B[38;5;124m\"\u001B[39m\u001B[38;5;124m`include` must have at least one element.\u001B[39m\u001B[38;5;124m\"\u001B[39m\n\u001B[1;32m     88\u001B[0m     \u001B[38;5;28;01massert\u001B[39;00m hypno\u001B[38;5;241m.\u001B[39mdtype\u001B[38;5;241m.\u001B[39mkind \u001B[38;5;241m==\u001B[39m include\u001B[38;5;241m.\u001B[39mdtype\u001B[38;5;241m.\u001B[39mkind, \u001B[38;5;124m\"\u001B[39m\u001B[38;5;124mhypno and include must have same dtype\u001B[39m\u001B[38;5;124m\"\u001B[39m\n\u001B[0;32m---> 89\u001B[0m     \u001B[38;5;28;01massert\u001B[39;00m np\u001B[38;5;241m.\u001B[39min1d(hypno, include)\u001B[38;5;241m.\u001B[39many(), (\n\u001B[1;32m     90\u001B[0m         \u001B[38;5;124m\"\u001B[39m\u001B[38;5;124mNone of the stages specified \u001B[39m\u001B[38;5;124m\"\u001B[39m \u001B[38;5;124m\"\u001B[39m\u001B[38;5;124min `include` are present in \u001B[39m\u001B[38;5;124m\"\u001B[39m \u001B[38;5;124m\"\u001B[39m\u001B[38;5;124mhypno.\u001B[39m\u001B[38;5;124m\"\u001B[39m\n\u001B[1;32m     91\u001B[0m     )\n\u001B[1;32m     93\u001B[0m \u001B[38;5;66;03m# 4) Check data amplitude\u001B[39;00m\n\u001B[1;32m     94\u001B[0m logger\u001B[38;5;241m.\u001B[39minfo(\u001B[38;5;124m\"\u001B[39m\u001B[38;5;124mNumber of samples in data = \u001B[39m\u001B[38;5;132;01m%i\u001B[39;00m\u001B[38;5;124m\"\u001B[39m, n_samples)\n",
      "\u001B[0;31mAssertionError\u001B[0m: None of the stages specified in `include` are present in hypno."
     ]
    }
   ],
   "execution_count": 5
  },
  {
   "attachments": {},
   "cell_type": "markdown",
   "metadata": {},
   "source": [
    "Please refer to the YASA's [documentation](https://raphaelvallat.com/yasa/build/html/generated/yasa.REMResults.html#yasa.REMResults.summary) for details about the arguments."
   ]
  },
  {
   "cell_type": "code",
   "metadata": {
    "ExecuteTime": {
     "end_time": "2024-08-06T08:13:55.786477Z",
     "start_time": "2024-08-06T08:13:55.770089Z"
    }
   },
   "source": [
    "rems_pipe.results.summary(\n",
    "    grp_stage=False, \n",
    "    mask=None, \n",
    "    aggfunc='mean', \n",
    "    sort=True\n",
    ")"
   ],
   "outputs": [
    {
     "ename": "AttributeError",
     "evalue": "'RapidEyeMovementsPipe' object has no attribute 'results'",
     "output_type": "error",
     "traceback": [
      "\u001B[0;31m---------------------------------------------------------------------------\u001B[0m",
      "\u001B[0;31mAttributeError\u001B[0m                            Traceback (most recent call last)",
      "Cell \u001B[0;32mIn[6], line 1\u001B[0m\n\u001B[0;32m----> 1\u001B[0m rems_pipe\u001B[38;5;241m.\u001B[39mresults\u001B[38;5;241m.\u001B[39msummary(\n\u001B[1;32m      2\u001B[0m     grp_stage\u001B[38;5;241m=\u001B[39m\u001B[38;5;28;01mFalse\u001B[39;00m, \n\u001B[1;32m      3\u001B[0m     mask\u001B[38;5;241m=\u001B[39m\u001B[38;5;28;01mNone\u001B[39;00m, \n\u001B[1;32m      4\u001B[0m     aggfunc\u001B[38;5;241m=\u001B[39m\u001B[38;5;124m'\u001B[39m\u001B[38;5;124mmean\u001B[39m\u001B[38;5;124m'\u001B[39m, \n\u001B[1;32m      5\u001B[0m     sort\u001B[38;5;241m=\u001B[39m\u001B[38;5;28;01mTrue\u001B[39;00m\n\u001B[1;32m      6\u001B[0m )\n",
      "\u001B[0;31mAttributeError\u001B[0m: 'RapidEyeMovementsPipe' object has no attribute 'results'"
     ]
    }
   ],
   "execution_count": 6
  },
  {
   "cell_type": "code",
   "metadata": {
    "ExecuteTime": {
     "end_time": "2024-08-06T08:13:59.102285Z",
     "start_time": "2024-08-06T08:13:58.942192Z"
    }
   },
   "source": [
    "rems_pipe.plot_average( \n",
    "    save=True, \n",
    "    center=\"Peak\",\n",
    "    time_before=0.5,\n",
    "    time_after=0.5,\n",
    "    filt=(None,None),\n",
    "    mask=None,\n",
    "    )"
   ],
   "outputs": [
    {
     "ename": "AttributeError",
     "evalue": "'RapidEyeMovementsPipe' object has no attribute 'results'",
     "output_type": "error",
     "traceback": [
      "\u001B[0;31m---------------------------------------------------------------------------\u001B[0m",
      "\u001B[0;31mAttributeError\u001B[0m                            Traceback (most recent call last)",
      "Cell \u001B[0;32mIn[7], line 1\u001B[0m\n\u001B[0;32m----> 1\u001B[0m rems_pipe\u001B[38;5;241m.\u001B[39mplot_average( \n\u001B[1;32m      2\u001B[0m     save\u001B[38;5;241m=\u001B[39m\u001B[38;5;28;01mTrue\u001B[39;00m, \n\u001B[1;32m      3\u001B[0m     center\u001B[38;5;241m=\u001B[39m\u001B[38;5;124m\"\u001B[39m\u001B[38;5;124mPeak\u001B[39m\u001B[38;5;124m\"\u001B[39m,\n\u001B[1;32m      4\u001B[0m     time_before\u001B[38;5;241m=\u001B[39m\u001B[38;5;241m0.5\u001B[39m,\n\u001B[1;32m      5\u001B[0m     time_after\u001B[38;5;241m=\u001B[39m\u001B[38;5;241m0.5\u001B[39m,\n\u001B[1;32m      6\u001B[0m     filt\u001B[38;5;241m=\u001B[39m(\u001B[38;5;28;01mNone\u001B[39;00m,\u001B[38;5;28;01mNone\u001B[39;00m),\n\u001B[1;32m      7\u001B[0m     mask\u001B[38;5;241m=\u001B[39m\u001B[38;5;28;01mNone\u001B[39;00m,\n\u001B[1;32m      8\u001B[0m     )\n",
      "File \u001B[0;32m~/Desktop/myProjects/sleeping_lab/repos/sleepeegpy/sleepeegpy2/utils.py:16\u001B[0m, in \u001B[0;36mlogger_wraps.<locals>.wrapper.<locals>.wrapped\u001B[0;34m(self, *args, **kwargs)\u001B[0m\n\u001B[1;32m     11\u001B[0m logger_ \u001B[38;5;241m=\u001B[39m logger\u001B[38;5;241m.\u001B[39mopt(depth\u001B[38;5;241m=\u001B[39m\u001B[38;5;241m1\u001B[39m)\n\u001B[1;32m     12\u001B[0m logger_\u001B[38;5;241m.\u001B[39mlog(\n\u001B[1;32m     13\u001B[0m     level,\n\u001B[1;32m     14\u001B[0m     \u001B[38;5;124mf\u001B[39m\u001B[38;5;124m\"\u001B[39m\u001B[38;5;124mEntering \u001B[39m\u001B[38;5;124m'\u001B[39m\u001B[38;5;132;01m{\u001B[39;00m\u001B[38;5;28mself\u001B[39m\u001B[38;5;241m.\u001B[39m\u001B[38;5;18m__class__\u001B[39m\u001B[38;5;241m.\u001B[39m\u001B[38;5;18m__name__\u001B[39m\u001B[38;5;132;01m}\u001B[39;00m\u001B[38;5;124m.\u001B[39m\u001B[38;5;132;01m{\u001B[39;00mname\u001B[38;5;132;01m}\u001B[39;00m\u001B[38;5;124m'\u001B[39m\u001B[38;5;124m (args=\u001B[39m\u001B[38;5;132;01m{\u001B[39;00margs\u001B[38;5;132;01m}\u001B[39;00m\u001B[38;5;124m, kwargs=\u001B[39m\u001B[38;5;132;01m{\u001B[39;00mkwargs\u001B[38;5;132;01m}\u001B[39;00m\u001B[38;5;124m)\u001B[39m\u001B[38;5;124m\"\u001B[39m,\n\u001B[1;32m     15\u001B[0m )\n\u001B[0;32m---> 16\u001B[0m result \u001B[38;5;241m=\u001B[39m func(\u001B[38;5;28mself\u001B[39m, \u001B[38;5;241m*\u001B[39margs, \u001B[38;5;241m*\u001B[39m\u001B[38;5;241m*\u001B[39mkwargs)\n\u001B[1;32m     18\u001B[0m \u001B[38;5;28;01mreturn\u001B[39;00m result\n",
      "File \u001B[0;32m~/Desktop/myProjects/sleeping_lab/repos/sleepeegpy/sleepeegpy2/base.py:419\u001B[0m, in \u001B[0;36mBaseEventPipe.plot_average\u001B[0;34m(self, save, **kwargs)\u001B[0m\n\u001B[1;32m    411\u001B[0m \u001B[38;5;129m@logger_wraps\u001B[39m()\n\u001B[1;32m    412\u001B[0m \u001B[38;5;28;01mdef\u001B[39;00m \u001B[38;5;21mplot_average\u001B[39m(\u001B[38;5;28mself\u001B[39m, save: \u001B[38;5;28mbool\u001B[39m \u001B[38;5;241m=\u001B[39m \u001B[38;5;28;01mFalse\u001B[39;00m, \u001B[38;5;241m*\u001B[39m\u001B[38;5;241m*\u001B[39mkwargs):\n\u001B[1;32m    413\u001B[0m \u001B[38;5;250m    \u001B[39m\u001B[38;5;124;03m\"\"\"Plot average of the detected event.\u001B[39;00m\n\u001B[1;32m    414\u001B[0m \n\u001B[1;32m    415\u001B[0m \u001B[38;5;124;03m    Args:\u001B[39;00m\n\u001B[1;32m    416\u001B[0m \u001B[38;5;124;03m        save: Whether to save the figure to file. Defaults to False.\u001B[39;00m\n\u001B[1;32m    417\u001B[0m \u001B[38;5;124;03m        **kwargs: Arguments passed to the YASA's plot_average().\u001B[39;00m\n\u001B[1;32m    418\u001B[0m \u001B[38;5;124;03m    \"\"\"\u001B[39;00m\n\u001B[0;32m--> 419\u001B[0m     \u001B[38;5;28mself\u001B[39m\u001B[38;5;241m.\u001B[39mresults\u001B[38;5;241m.\u001B[39mplot_average(\u001B[38;5;241m*\u001B[39m\u001B[38;5;241m*\u001B[39mkwargs)\n\u001B[1;32m    420\u001B[0m     \u001B[38;5;28;01mif\u001B[39;00m save:\n\u001B[1;32m    421\u001B[0m         \u001B[38;5;28mself\u001B[39m\u001B[38;5;241m.\u001B[39m_savefig(\u001B[38;5;124mf\u001B[39m\u001B[38;5;124m\"\u001B[39m\u001B[38;5;132;01m{\u001B[39;00m\u001B[38;5;28mself\u001B[39m\u001B[38;5;241m.\u001B[39m\u001B[38;5;18m__class__\u001B[39m\u001B[38;5;241m.\u001B[39m\u001B[38;5;18m__name__\u001B[39m[:\u001B[38;5;241m-\u001B[39m\u001B[38;5;241m4\u001B[39m]\u001B[38;5;241m.\u001B[39mlower()\u001B[38;5;132;01m}\u001B[39;00m\u001B[38;5;124m_avg.png\u001B[39m\u001B[38;5;124m\"\u001B[39m)\n",
      "\u001B[0;31mAttributeError\u001B[0m: 'RapidEyeMovementsPipe' object has no attribute 'results'"
     ]
    }
   ],
   "execution_count": 7
  }
 ],
 "metadata": {
  "kernelspec": {
   "display_name": ".venv",
   "language": "python",
   "name": "python3"
  },
  "language_info": {
   "codemirror_mode": {
    "name": "ipython",
    "version": 3
   },
   "file_extension": ".py",
   "mimetype": "text/x-python",
   "name": "python",
   "nbconvert_exporter": "python",
   "pygments_lexer": "ipython3",
   "version": "3.11.6"
  },
  "orig_nbformat": 4
 },
 "nbformat": 4,
 "nbformat_minor": 2
}
