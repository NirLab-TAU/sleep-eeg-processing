{
 "cells": [
  {
   "attachments": {},
   "cell_type": "markdown",
   "metadata": {},
   "source": [
    "# Rapid eye movements analysis"
   ]
  },
  {
   "attachments": {},
   "cell_type": "markdown",
   "metadata": {},
   "source": [
    "## Introductory notes:\n",
    "This notebook presents REMs detection functionality.\n",
    "\n",
    "Recommended reading:\n",
    "1. [YASA: FAQ](https://raphaelvallat.com/yasa/build/html/faq.html#event-detection)\n",
    "2. [YASA: Rapid Eye Movements (REMs) detection](https://github.com/raphaelvallat/yasa/blob/master/notebooks/07_REMs_detection.ipynb)\n",
    "3. [YASA: REMResults class](https://raphaelvallat.com/yasa/build/html/generated/yasa.REMResults.html#yasa.REMResults)"
   ]
  },
  {
   "attachments": {},
   "cell_type": "markdown",
   "metadata": {},
   "source": [
    "## Import module"
   ]
  },
  {
   "cell_type": "code",
   "execution_count": null,
   "metadata": {
    "ExecuteTime": {
     "end_time": "2024-08-06T08:14:08.680302Z",
     "start_time": "2024-08-06T08:14:08.665883Z"
    }
   },
   "outputs": [],
   "source": [
    "from sleepeegpy.pipeline import RapidEyeMovementsPipe\n",
    "from os import makedirs,path"
   ]
  },
  {
   "attachments": {},
   "cell_type": "markdown",
   "metadata": {},
   "source": [
    "## REMs detection"
   ]
  },
  {
   "cell_type": "markdown",
   "metadata": {},
   "source": [
    "If you wish to change the path for output_dir ot input dir, change it below.\n",
    "If no such folders, they will be created automatically."
   ]
  },
  {
   "cell_type": "code",
   "execution_count": null,
   "metadata": {
    "ExecuteTime": {
     "end_time": "2024-08-06T08:13:39.962293Z",
     "start_time": "2024-08-06T08:13:39.958601Z"
    }
   },
   "outputs": [],
   "source": [
    "output_dir  = \"output_folder\" # Output path and name can be changed here\n",
    "input_dir = \"input_files\" # input files dir can be changed here\n",
    "makedirs(input_dir, exist_ok=True)\n",
    "makedirs(output_dir, exist_ok=True)"
   ]
  },
  {
   "cell_type": "markdown",
   "metadata": {},
   "source": [
    "#### Add required files and data\n",
    "* Put all your files in the input folder.\n",
    "* Modify your eeg file name below. The file can be any format supported by the mne.read_raw() function.\n",
    "* Modify your hypnogram file name below\n",
    "* Make sure the hypno_freq is the right frequency.\n",
    "* For more information about the supported formats, see [mne documentation](https://mne.tools/stable/generated/mne.io.Raw.html)"
   ]
  },
  {
   "cell_type": "code",
   "execution_count": null,
   "metadata": {
    "ExecuteTime": {
     "end_time": "2024-08-06T08:13:42.518760Z",
     "start_time": "2024-08-06T08:13:42.515322Z"
    }
   },
   "outputs": [],
   "source": [
    "eeg_file_name= \"resampled_raw.fif\" #None # add your eeg_path here\n",
    "hypnogram_filename = \"staging.txt\" # Hypnogram filename can be changed here (file must be in the input dir)\n",
    "hypno_freq = 1"
   ]
  },
  {
   "cell_type": "code",
   "execution_count": null,
   "metadata": {
    "ExecuteTime": {
     "end_time": "2024-08-06T08:13:45.998074Z",
     "start_time": "2024-08-06T08:13:43.208440Z"
    }
   },
   "outputs": [],
   "source": [
    "path_to_eeg = path.join(input_dir,eeg_file_name)\n",
    "hypnogram_path = path.join(input_dir,hypnogram_filename)\n",
    "\n",
    "assert path.isfile(path_to_eeg) and path.isfile(hypnogram_path), f\"{path_to_eeg} or {hypnogram_path} not exist\"\n",
    "rems_pipe = RapidEyeMovementsPipe(\n",
    "    path_to_eeg=path_to_eeg,\n",
    "    output_dir=output_dir,\n",
    "    path_to_hypno=hypnogram_path,\n",
    "    hypno_freq=hypno_freq,\n",
    ")"
   ]
  },
  {
   "attachments": {},
   "cell_type": "markdown",
   "metadata": {},
   "source": [
    "Please refer to the YASA's [documentation](https://raphaelvallat.com/yasa/build/html/generated/yasa.rem_detect.html) for details about the arguments."
   ]
  },
  {
   "cell_type": "code",
   "execution_count": null,
   "metadata": {
    "ExecuteTime": {
     "end_time": "2024-08-06T08:13:52.198217Z",
     "start_time": "2024-08-06T08:13:49.549609Z"
    }
   },
   "outputs": [],
   "source": [
    "rems_pipe.detect(\n",
    "    reference=\"average\",\n",
    "    loc_chname=\"E46\",\n",
    "    roc_chname=\"E238\",\n",
    "    include=4,\n",
    "    freq_rem=(0.5, 5),\n",
    "    duration=(0.3, 1.2),\n",
    "    amplitude=(50, 325),\n",
    "    remove_outliers=False,\n",
    "    save=True,\n",
    ")"
   ]
  },
  {
   "attachments": {},
   "cell_type": "markdown",
   "metadata": {},
   "source": [
    "Please refer to the YASA's [documentation](https://raphaelvallat.com/yasa/build/html/generated/yasa.REMResults.html#yasa.REMResults.summary) for details about the arguments."
   ]
  },
  {
   "cell_type": "code",
   "execution_count": null,
   "metadata": {
    "ExecuteTime": {
     "end_time": "2024-08-06T08:13:55.786477Z",
     "start_time": "2024-08-06T08:13:55.770089Z"
    }
   },
   "outputs": [],
   "source": [
    "rems_pipe.results.summary(\n",
    "    grp_stage=False, \n",
    "    mask=None, \n",
    "    aggfunc='mean', \n",
    "    sort=True\n",
    ")"
   ]
  },
  {
   "cell_type": "code",
   "execution_count": null,
   "metadata": {
    "ExecuteTime": {
     "end_time": "2024-08-06T08:13:59.102285Z",
     "start_time": "2024-08-06T08:13:58.942192Z"
    }
   },
   "outputs": [],
   "source": [
    "rems_pipe.plot_average( \n",
    "    save=True, \n",
    "    center=\"Peak\",\n",
    "    time_before=0.5,\n",
    "    time_after=0.5,\n",
    "    filt=(None,None),\n",
    "    mask=None,\n",
    "    )"
   ]
  }
 ],
 "metadata": {
  "kernelspec": {
   "display_name": "Python 3",
   "language": "python",
   "name": "python3"
  },
  "language_info": {
   "codemirror_mode": {
    "name": "ipython",
    "version": 3
   },
   "file_extension": ".py",
   "mimetype": "text/x-python",
   "name": "python",
   "nbconvert_exporter": "python",
   "pygments_lexer": "ipython3",
   "version": "3.11.8"
  }
 },
 "nbformat": 4,
 "nbformat_minor": 4
}
