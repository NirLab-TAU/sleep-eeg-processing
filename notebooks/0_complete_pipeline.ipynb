{
 "cells": [
  {
   "attachments": {},
   "cell_type": "markdown",
   "metadata": {},
   "source": [
    "# Complete pipeline"
   ]
  },
  {
   "cell_type": "markdown",
   "metadata": {},
   "source": [
    "## Introductory notes:\n",
    "This notebook presents minimal functionality needed to go through the cleaning, ICA, spectral and event analysis stages.\n",
    "* For the cleaning part, the functionality consists of resampling, filtering, bad channels and bad data spans annotation and bad channels interpolation.\n",
    "* For the ICA part, it is fitting and selecting components you want to exclude.\n",
    "* For the spectral analyses part, it is spectrogram+hypnogram, PSD per sleep stage and topomap per sleep stage per frequency band.\n",
    "* For the events detection, it is spindles, slow waves and rapid eye movements detection and analysis.\n",
    "\n",
    "For the extended functionality check out the corresponding notebooks."
   ]
  },
  {
   "attachments": {},
   "cell_type": "markdown",
   "metadata": {},
   "source": [
    "## Import module"
   ]
  },
  {
   "cell_type": "code",
   "metadata": {},
   "source": [
    "import os\n",
    "import sys\n",
    "sys.path.append(os.path.abspath('..'))"
   ],
   "outputs": [],
   "execution_count": null
  },
  {
   "cell_type": "code",
   "metadata": {},
   "source": [
    "import pooch\n",
    "from sleepeegpy.pipeline import (\n",
    "    CleaningPipe, ICAPipe, SpectralPipe, \n",
    "    SpindlesPipe, SlowWavesPipe, RapidEyeMovementsPipe\n",
    "    )\n",
    "from sleepeegpy.dashboard import create_dashboard"
   ],
   "outputs": [],
   "execution_count": null
  },
  {
   "cell_type": "markdown",
   "metadata": {},
   "source": "## Setup Input Files"
  },
  {
   "cell_type": "markdown",
   "metadata": {},
   "source": [
    "By default, all the input files are assumed to be saved in <b>input_files</b>, which will be created (if not already exists) in the notebook path. Change the following strings to use another path.\n",
    "Changing the output directory is also optional."
   ]
  },
  {
   "cell_type": "code",
   "metadata": {},
   "source": [
    "from os import makedirs\n",
    "\n",
    "output_dir  = \"output_folder\" # Output path and name can be changed here\n",
    "input_dir = \"input_files\" # input files dir can be changed here\n",
    "makedirs(input_dir, exist_ok=True)\n",
    "makedirs(output_dir, exist_ok=True)"
   ],
   "outputs": [],
   "execution_count": null
  },
  {
   "metadata": {},
   "cell_type": "markdown",
   "source": [
    "#### Add required files\n",
    "* Put all your files in the input folder.\n",
    "* Modify your eeg file name below. The file can be any format supported by the mne.read_raw() function.\n",
    "* Modify your hypnogram file name (Point-per-row type of hypnogram) below.\n",
    "* If needed, change Hypnogram's sampling frequency \n",
    "* For more information about the supported formats, see [mne documentation](https://mne.tools/stable/generated/mne.io.Raw.html)"
   ]
  },
  {
   "metadata": {},
   "cell_type": "code",
   "source": [
    "eeg_file_name= \"resampled_raw.fif\" # add your eeg_path here\n",
    "hypnogram_filename = \"staging.txt\" # Point-per-row type of hypnogram.\n",
    "hypno_freq = 1 # If required, change Hypnogram's sampling frequency (visbrain's hypnograms default to 1)"
   ],
   "outputs": [],
   "execution_count": null
  },
  {
   "metadata": {},
   "cell_type": "markdown",
   "source": [
    "#### Adjust variables\n",
    "* Add your subject code in the following code.\n",
    "* If required, change n_components - should be equal or less then number of channels. see [more information](https://mne.tools/stable/generated/mne.preprocessing.ICA.html)\n",
    "* Adjust spectrogram electrode, loc_chname and roc_chname. Make sure they fit the channel names in the montage."
   ]
  },
  {
   "metadata": {},
   "cell_type": "code",
   "source": [
    "subject_code =  \"AA41\"\n",
    "n_components = 30\n",
    "spectrogram_electrode = 'E101'\n",
    "loc_chname = \"E252\"\n",
    "roc_chname = \"E226\""
   ],
   "outputs": [],
   "execution_count": null
  },
  {
   "metadata": {},
   "cell_type": "markdown",
   "source": "## Retrieve the example dataset"
  },
  {
   "cell_type": "code",
   "metadata": {},
   "source": [
    "hypnogram_path = os.path.join(input_dir,hypnogram_filename)\n",
    "cache_dir = pooch.os_cache(\"sleepeegpy_dataset\")\n",
    "doi = \"10.5281/zenodo.10362189\"\n",
    "odie = pooch.create(\n",
    "    path=cache_dir,\n",
    "    base_url=f\"doi:{doi}\",\n",
    ")\n",
    "odie.load_registry_from_doi()"
   ],
   "outputs": [],
   "execution_count": null
  },
  {
   "cell_type": "code",
   "metadata": {},
   "source": [
    "bad_channels = odie.fetch(\"bad_channels.txt\")\n",
    "annotations = odie.fetch(\"annotations.txt\")\n",
    "path_to_eeg = odie.fetch(\"resampled_raw.fif\", progressbar=True)\n",
    "for i in range(1,4):\n",
    "    odie.fetch(f\"resampled_raw-{i}.fif\", progressbar=True)"
   ],
   "outputs": [],
   "execution_count": null
  },
  {
   "attachments": {},
   "cell_type": "markdown",
   "metadata": {},
   "source": [
    "## Cleaning"
   ]
  },
  {
   "attachments": {},
   "cell_type": "markdown",
   "metadata": {},
   "source": [
    "Initialize `CleaningPipe` object by providing it with path to eeg file and output directory in which you want the data to be saved."
   ]
  },
  {
   "cell_type": "code",
   "metadata": {},
   "source": [
    "pipe = CleaningPipe(\n",
    "    path_to_eeg=path_to_eeg,\n",
    "    output_dir=output_dir,\n",
    ")"
   ],
   "outputs": [],
   "execution_count": null
  },
  {
   "attachments": {},
   "cell_type": "markdown",
   "metadata": {},
   "source": [
    "### Resampling\n",
    "This can take more than an hour depending on eeg signal size and specs of the computer you're running the analysis on."
   ]
  },
  {
   "cell_type": "code",
   "metadata": {
    "scrolled": true
   },
   "source": [
    "pipe.resample(sfreq=250)"
   ],
   "outputs": [],
   "execution_count": null
  },
  {
   "cell_type": "code",
   "metadata": {},
   "source": [
    "pipe.filter(l_freq=0.75, h_freq=40)"
   ],
   "outputs": [],
   "execution_count": null
  },
  {
   "cell_type": "code",
   "metadata": {},
   "source": [
    "pipe.notch(freqs=\"50s\")"
   ],
   "outputs": [],
   "execution_count": null
  },
  {
   "attachments": {},
   "cell_type": "markdown",
   "metadata": {},
   "source": "### Select bad channels and epochs"
  },
  {
   "attachments": {},
   "cell_type": "markdown",
   "metadata": {},
   "source": [
    "Select bad channels in the opened browser."
   ]
  },
  {
   "metadata": {},
   "cell_type": "code",
   "source": "pipe.plot(save_bad_channels=True)",
   "outputs": [],
   "execution_count": null
  },
  {
   "metadata": {},
   "cell_type": "code",
   "source": "pipe.read_bad_channels()",
   "outputs": [],
   "execution_count": null
  },
  {
   "metadata": {},
   "cell_type": "code",
   "source": "pipe.interpolate_bads(reset_bads=True)",
   "outputs": [],
   "execution_count": null
  },
  {
   "metadata": {},
   "cell_type": "markdown",
   "source": [
    "Select bad epochs\n",
    "\n",
    "Click \"a\" -> \"Add description\" -> Enter BAD_EPOCH -> Annotate bad data spans"
   ]
  },
  {
   "cell_type": "code",
   "metadata": {},
   "source": "pipe.plot(butterfly=True, save_annotations=True,overwrite=True)",
   "outputs": [],
   "execution_count": null
  },
  {
   "cell_type": "code",
   "metadata": {},
   "source": "pipe.read_annotations()",
   "outputs": [],
   "execution_count": null
  },
  {
   "metadata": {},
   "cell_type": "code",
   "source": [
    "fig = create_dashboard(\n",
    "    subject_code=subject_code, \n",
    "    prec_pipe=pipe, \n",
    "    hypno_psd_pick=spectrogram_electrode,\n",
    "    hypnogram=hypnogram_path,\n",
    "    hypno_freq=hypno_freq,\n",
    "    reference=\"average\")"
   ],
   "outputs": [],
   "execution_count": null
  },
  {
   "attachments": {},
   "cell_type": "markdown",
   "metadata": {},
   "source": [
    "## ICA"
   ]
  },
  {
   "attachments": {},
   "cell_type": "markdown",
   "metadata": {},
   "source": [
    "Pass the preceding (cleaning) pipe to the ICAPipe."
   ]
  },
  {
   "cell_type": "code",
   "metadata": {},
   "source": "ica_pipe = ICAPipe(prec_pipe=pipe, n_components=n_components)",
   "outputs": [],
   "execution_count": null
  },
  {
   "attachments": {},
   "cell_type": "markdown",
   "metadata": {},
   "source": "Fit the ICA on the 1 Hz high-pass filtered data."
  },
  {
   "cell_type": "code",
   "metadata": {},
   "source": [
    "ica_pipe.fit()"
   ],
   "outputs": [],
   "execution_count": null
  },
  {
   "attachments": {},
   "cell_type": "markdown",
   "metadata": {},
   "source": [
    "Visually inspect ICA components."
   ]
  },
  {
   "cell_type": "code",
   "metadata": {},
   "source": [
    "ica_pipe.plot_sources()"
   ],
   "outputs": [],
   "execution_count": null
  },
  {
   "attachments": {},
   "cell_type": "markdown",
   "metadata": {},
   "source": [
    "Pass to the `exclude` argument indices of components you want to remove from the raw signal."
   ]
  },
  {
   "cell_type": "code",
   "metadata": {},
   "source": [
    "ica_pipe.apply()"
   ],
   "outputs": [],
   "execution_count": null
  },
  {
   "attachments": {},
   "cell_type": "markdown",
   "metadata": {},
   "source": [
    "## Spectral"
   ]
  },
  {
   "attachments": {},
   "cell_type": "markdown",
   "metadata": {},
   "source": [
    "Pass the preceding (cleaning or ICA) pipe to the SpectralPipe. Also provide pass to the hypnogram and don't forget to pass its frequency to the corresponding parameter."
   ]
  },
  {
   "cell_type": "code",
   "metadata": {},
   "source": [
    "spectral_pipe = SpectralPipe(\n",
    "    prec_pipe=ica_pipe,\n",
    "    path_to_hypno=hypnogram_path,\n",
    "    hypno_freq=hypno_freq,\n",
    ")"
   ],
   "outputs": [],
   "execution_count": null
  },
  {
   "attachments": {},
   "cell_type": "markdown",
   "metadata": {},
   "source": [
    "If you don't have a hypnogram, you can use the method `predict_hypno`, which will use [YASA's algorithm](https://raphaelvallat.com/yasa/build/html/generated/yasa.SleepStaging.html#yasa.SleepStaging). \n",
    "\n",
    "Make sure that the electrodes you provide are clean."
   ]
  },
  {
   "cell_type": "code",
   "metadata": {},
   "source": [
    "# spectral_pipe.predict_hypno(\n",
    "#     eeg_name = \"E183\",\n",
    "#     eog_name = \"E252\",\n",
    "#     emg_name = \"E247\",\n",
    "#     ref_name = \"E26\",\n",
    "#     save=False\n",
    "# )"
   ],
   "outputs": [],
   "execution_count": null
  },
  {
   "attachments": {},
   "cell_type": "markdown",
   "metadata": {},
   "source": [
    "Pass an electrode name to calculate spectrogram for (e.g., E101)"
   ]
  },
  {
   "cell_type": "code",
   "metadata": {},
   "source": "spectral_pipe.plot_hypnospectrogram(picks=[spectrogram_electrode])",
   "outputs": [],
   "execution_count": null
  },
  {
   "cell_type": "code",
   "metadata": {},
   "source": [
    "spectral_pipe.compute_psd(\n",
    "    sleep_stages={\"Wake\": 0, \"N1\": 1, \"N2/3\": (2, 3), \"REM\": 4},\n",
    "    reference=\"average\",\n",
    "    # Additional arguments passed to the Welch method:\n",
    "    n_fft=1024,\n",
    "    n_per_seg=1024,\n",
    "    n_overlap=512,\n",
    "    window=\"hamming\",\n",
    "    verbose=False\n",
    ")"
   ],
   "outputs": [],
   "execution_count": null
  },
  {
   "cell_type": "code",
   "metadata": {},
   "source": "spectral_pipe.plot_psds(picks=[spectrogram_electrode], psd_range=(-30, 30))",
   "outputs": [],
   "execution_count": null
  },
  {
   "attachments": {},
   "cell_type": "markdown",
   "metadata": {},
   "source": [
    "Create a collage with rows for sleep stages and columns for bands."
   ]
  },
  {
   "cell_type": "code",
   "metadata": {},
   "source": [
    "spectral_pipe.plot_topomap_collage()"
   ],
   "outputs": [],
   "execution_count": null
  },
  {
   "attachments": {},
   "cell_type": "markdown",
   "metadata": {},
   "source": [
    "## Events"
   ]
  },
  {
   "attachments": {},
   "cell_type": "markdown",
   "metadata": {},
   "source": [
    "Pass the preceding (cleaning or ICA or spectral) pipe to one of the SpindlesPipe, SlowWavesPipe or RapidEyeMovementsPipe. If the preceding is cleaning or ICA - provide path to the hypnogram and don't forget to pass its frequency to the corresponding parameter."
   ]
  },
  {
   "cell_type": "code",
   "metadata": {},
   "source": [
    "spindles_pipe = SpindlesPipe(prec_pipe=spectral_pipe)\n",
    "\n",
    "spindles_pipe.detect()\n",
    "spindles_pipe.plot_average(\n",
    "    center=\"Peak\",\n",
    "    hue=\"Stage\",\n",
    "    time_before=1,\n",
    "    time_after=1,\n",
    ")"
   ],
   "outputs": [],
   "execution_count": null
  },
  {
   "cell_type": "code",
   "metadata": {},
   "source": [
    "spindles_pipe.results.summary(grp_chan=False, grp_stage=True)"
   ],
   "outputs": [],
   "execution_count": null
  },
  {
   "cell_type": "code",
   "metadata": {},
   "source": [
    "spindles_pipe.compute_tfr(freqs=(10, 20), n_freqs=100, time_before=1, time_after=1)\n",
    "spindles_pipe.tfrs[\"N2\"].plot([spectrogram_electrode])"
   ],
   "outputs": [],
   "execution_count": null
  },
  {
   "cell_type": "code",
   "metadata": {},
   "source": [
    "slow_waves_pipe = SlowWavesPipe(prec_pipe=spindles_pipe)\n",
    "\n",
    "slow_waves_pipe.detect()\n",
    "slow_waves_pipe.plot_average(\n",
    "    center=\"NegPeak\",\n",
    "    hue=\"Stage\",\n",
    "    time_before=0.4,\n",
    "    time_after=0.8,\n",
    ")"
   ],
   "outputs": [],
   "execution_count": null
  },
  {
   "cell_type": "code",
   "metadata": {},
   "source": [
    "slow_waves_pipe.compute_tfr(\n",
    "    freqs=(0.5, 5), n_freqs=100, time_before=4, time_after=4, n_cycles=2\n",
    ")\n",
    "slow_waves_pipe.tfrs[\"N3\"].plot([spectrogram_electrode])"
   ],
   "outputs": [],
   "execution_count": null
  },
  {
   "cell_type": "code",
   "metadata": {},
   "source": [
    "rems_pipe = RapidEyeMovementsPipe(prec_pipe=slow_waves_pipe)\n",
    "\n",
    "rems_pipe.detect(\n",
    "    loc_chname=loc_chname,\n",
    "    roc_chname=roc_chname,\n",
    ")\n",
    "\n",
    "rems_pipe.plot_average(\n",
    "    center=\"Peak\",\n",
    "    time_before=0.5,\n",
    "    time_after=0.5,\n",
    "    filt=(None, None),\n",
    "    mask=None,\n",
    ")"
   ],
   "outputs": [],
   "execution_count": null
  }
 ],
 "metadata": {
  "kernelspec": {
   "display_name": "Python 3",
   "language": "python",
   "name": "python3"
  },
  "language_info": {
   "codemirror_mode": {
    "name": "ipython",
    "version": 3
   },
   "file_extension": ".py",
   "mimetype": "text/x-python",
   "name": "python",
   "nbconvert_exporter": "python",
   "pygments_lexer": "ipython3",
   "version": "3.11.9"
  },
  "vscode": {
   "interpreter": {
    "hash": "e7e6a3ad0af7de53e72789e0b82b3fd5c64743c0f9fcf843fd4113b6e74b9b71"
   }
  }
 },
 "nbformat": 4,
 "nbformat_minor": 4
}
