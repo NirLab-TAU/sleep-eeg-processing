{
 "cells": [
  {
   "attachments": {},
   "cell_type": "markdown",
   "metadata": {},
   "source": [
    "# Slow waves analysis"
   ]
  },
  {
   "attachments": {},
   "cell_type": "markdown",
   "metadata": {},
   "source": [
    "## Introductory notes:\n",
    "This notebook presents slow waves detection functionality.\n",
    "\n",
    "Recommended reading:\n",
    "1. [YASA: FAQ](https://raphaelvallat.com/yasa/build/html/faq.html#event-detection)\n",
    "2. [YASA: Slow-waves detection](https://github.com/raphaelvallat/yasa/blob/master/notebooks/05_sw_detection.ipynb)\n",
    "3. [YASA: Multi-channel slow-wave detection](https://github.com/raphaelvallat/yasa/blob/master/notebooks/06_sw_detection_multi.ipynb)\n",
    "4. [YASA: SWResults class](https://raphaelvallat.com/yasa/build/html/generated/yasa.SWResults.html#yasa-swresults)\n",
    "5. [MNE: Time-frequency analysis: power and inter-trial coherence](https://mne.tools/stable/auto_tutorials/time-freq/20_sensors_time_frequency.html#time-frequency-analysis-power-and-inter-trial-coherence)\n",
    "6. [MNE: AverageTFR class](https://mne.tools/stable/generated/mne.time_frequency.AverageTFR.html#mne-time-frequency-averagetfr)"
   ]
  },
  {
   "attachments": {},
   "cell_type": "markdown",
   "metadata": {},
   "source": [
    "## Import module"
   ]
  },
  {
   "cell_type": "code",
   "execution_count": null,
   "metadata": {
    "ExecuteTime": {
     "end_time": "2024-08-06T08:00:43.144666Z",
     "start_time": "2024-08-06T08:00:41.978518Z"
    }
   },
   "outputs": [],
   "source": [
    "from sleepeegpy.pipeline import SlowWavesPipe\n",
    "from joblib import parallel_backend; parallel_backend(\"loky\", n_jobs=-1)\n",
    "from os import makedirs,path"
   ]
  },
  {
   "attachments": {},
   "cell_type": "markdown",
   "metadata": {},
   "source": [
    "## Slow waves detection"
   ]
  },
  {
   "cell_type": "markdown",
   "metadata": {},
   "source": [
    "If you wish to change the path for output_dir ot input dir, change it below.\n",
    "If no such folders, they will be created automatically."
   ]
  },
  {
   "cell_type": "code",
   "execution_count": null,
   "metadata": {
    "ExecuteTime": {
     "end_time": "2024-08-06T08:00:46.741183Z",
     "start_time": "2024-08-06T08:00:46.738557Z"
    }
   },
   "outputs": [],
   "source": [
    "output_dir  = \"output_folder\" # Output path and name can be changed here\n",
    "input_dir = \"input_files\" # input files dir can be changed here\n",
    "makedirs(input_dir, exist_ok=True)\n",
    "makedirs(output_dir, exist_ok=True)"
   ]
  },
  {
   "cell_type": "markdown",
   "metadata": {},
   "source": [
    "#### Add required files and data\n",
    "* Put all your files in the input folder.\n",
    "* Modify your eeg file name below. The file can be any format supported by the mne.read_raw() function.\n",
    "* Modify your hypnogram file name below\n",
    "* Make sure the hypno_freq is the right frequency.\n",
    "* For more information about the supported formats, see [mne documentation](https://mne.tools/stable/generated/mne.io.Raw.html)"
   ]
  },
  {
   "cell_type": "code",
   "execution_count": null,
   "metadata": {
    "ExecuteTime": {
     "end_time": "2024-08-06T08:00:47.978976Z",
     "start_time": "2024-08-06T08:00:47.975097Z"
    }
   },
   "outputs": [],
   "source": [
    "eeg_file_name= \"resampled_raw.fif\" #None # add your eeg_path here\n",
    "hypnogram_filename = \"staging.txt\" # Hypnogram filename can be changed here (file must be in the input dir)\n",
    "hypno_freq = 1"
   ]
  },
  {
   "cell_type": "code",
   "execution_count": null,
   "metadata": {
    "ExecuteTime": {
     "end_time": "2024-08-06T08:00:51.738952Z",
     "start_time": "2024-08-06T08:00:48.968998Z"
    }
   },
   "outputs": [],
   "source": [
    "path_to_eeg = path.join(input_dir,eeg_file_name)\n",
    "hypnogram_path = path.join(input_dir,hypnogram_filename)\n",
    "\n",
    "assert path.isfile(path_to_eeg) and path.isfile(hypnogram_path), f\"{path_to_eeg} or {hypnogram_path} not exist\"\n",
    "slow_waves_pipe = SlowWavesPipe(\n",
    "    path_to_eeg=path_to_eeg,\n",
    "    output_dir=output_dir,\n",
    "    path_to_hypno=hypnogram_path,\n",
    "    hypno_freq=hypno_freq,\n",
    ")"
   ]
  },
  {
   "attachments": {},
   "cell_type": "markdown",
   "metadata": {},
   "source": [
    "Please refer to the YASA's [documentation](https://raphaelvallat.com/yasa/build/html/generated/yasa.sw_detect.html) for details about the arguments."
   ]
  },
  {
   "cell_type": "code",
   "execution_count": null,
   "metadata": {
    "ExecuteTime": {
     "end_time": "2024-08-06T08:00:57.128636Z",
     "start_time": "2024-08-06T08:00:54.279879Z"
    }
   },
   "outputs": [],
   "source": [
    "slow_waves_pipe.detect(\n",
    "    picks=[\"eeg\"],\n",
    "    reference=\"average\",\n",
    "    include=(2, 3),\n",
    "    freq_sw=(0.3, 1.5),\n",
    "    dur_neg=(0.3, 1.5),\n",
    "    dur_pos=(0.1, 1),\n",
    "    amp_neg=(40, 200),\n",
    "    amp_pos=(10, 150),\n",
    "    amp_ptp=(75, 350),\n",
    "    coupling=False,\n",
    "    coupling_params={\"freq_sp\": (12, 16), \"p\": 0.05, \"time\": 1},\n",
    "    remove_outliers=False,\n",
    "    verbose=False,\n",
    "    save=True,\n",
    ")"
   ]
  },
  {
   "attachments": {},
   "cell_type": "markdown",
   "metadata": {},
   "source": [
    "Please refer to the YASA's [documentation](https://raphaelvallat.com/yasa/build/html/generated/yasa.SWResults.html) for details about the arguments."
   ]
  },
  {
   "cell_type": "code",
   "execution_count": null,
   "metadata": {
    "ExecuteTime": {
     "end_time": "2024-08-06T08:01:03.567177Z",
     "start_time": "2024-08-06T08:01:03.551239Z"
    }
   },
   "outputs": [],
   "source": [
    "slow_waves_pipe.results.summary(\n",
    "    grp_chan=False, grp_stage=True, mask=None, aggfunc=\"mean\", sort=True\n",
    ")"
   ]
  },
  {
   "cell_type": "code",
   "execution_count": null,
   "metadata": {
    "ExecuteTime": {
     "end_time": "2024-08-06T08:01:06.576262Z",
     "start_time": "2024-08-06T08:01:06.484357Z"
    }
   },
   "outputs": [],
   "source": [
    "slow_waves_pipe.plot_average(\n",
    "    save=True,\n",
    "    center=\"NegPeak\",\n",
    "    hue=\"Stage\",\n",
    "    time_before=0.4,\n",
    "    time_after=0.8,\n",
    "    filt=(None, None),\n",
    "    mask=None,\n",
    ")"
   ]
  },
  {
   "cell_type": "code",
   "execution_count": null,
   "metadata": {
    "ExecuteTime": {
     "end_time": "2024-08-06T08:01:10.401445Z",
     "start_time": "2024-08-06T08:01:10.352374Z"
    }
   },
   "outputs": [],
   "source": [
    "slow_waves_pipe.plot_topomap(\n",
    "    prop=\"Slope\",  #  Any of the event properties returned by pipe.results.summary().\n",
    "    stage=\"N3\",  # Stage to plot the topomap for.\n",
    "    aggfunc=\"mean\",  # Aggregation function for channel grouping.\n",
    "    # Should contain at least index of the provided \"stage\".\n",
    "    sleep_stages={\"Wake\": 0, \"N1\": 1, \"N2\": 2, \"N3\": 3, \"REM\": 4},\n",
    "    axis=None,  # Whether to plot on provided matplotlib axis.\n",
    "    save=True,  # Whether to save the plot as a file.\n",
    "    topomap_args=dict(cmap=\"plasma\"),  # Arguments passed to mne.viz.plot_topomap().\n",
    "    cbar_args=None,  # Arguments passed to plt.colorbar().\n",
    ")"
   ]
  },
  {
   "cell_type": "code",
   "execution_count": null,
   "metadata": {
    "ExecuteTime": {
     "end_time": "2024-08-06T08:01:15.963178Z",
     "start_time": "2024-08-06T08:01:15.915422Z"
    }
   },
   "outputs": [],
   "source": [
    "slow_waves_pipe.plot_topomap_collage(\n",
    "    # Some of the event properties returned by pipe.results.summary().\n",
    "    props=[\"Slope\", \"Frequency\", \"Duration\"],\n",
    "    aggfunc=\"mean\",  # Aggregation function for channel grouping.\n",
    "    # Tuple of strs or \"all\", e.g., (\"N1\", \"REM\") or \"all\" (plots all \"sleep_stages\").\n",
    "    stages_to_plot=\"all\",\n",
    "    # Should contain at least indices of the provided \"stages_to_plot\".\n",
    "    sleep_stages={\"N2\": 2, \"N3\": 3},\n",
    "    low_percentile=5,  # Set min color value by percentile of the property data.\n",
    "    high_percentile=95,  # Set max color value by percentile of the property data.\n",
    "    fig=None,  # Instance of plt.Figure, a new fig will be created if None.\n",
    "    save=True,  # Whether to save the plot as a file.\n",
    "    topomap_args=dict(cmap=\"plasma\"),  # Arguments passed to mne.viz.plot_topomap().\n",
    "    cbar_args=None,  # Arguments passed to plt.colorbar().\n",
    ")"
   ]
  },
  {
   "attachments": {},
   "cell_type": "markdown",
   "metadata": {},
   "source": [
    "Constructs MNE [AverageTFR](https://mne.tools/stable/generated/mne.time_frequency.AverageTFR.html) object for every available sleep stage."
   ]
  },
  {
   "cell_type": "code",
   "execution_count": null,
   "metadata": {
    "ExecuteTime": {
     "end_time": "2024-08-06T08:01:23.417279Z",
     "start_time": "2024-08-06T08:01:23.368602Z"
    }
   },
   "outputs": [],
   "source": [
    "slow_waves_pipe.compute_tfr(\n",
    "    freqs=(0.5, 5),  # Interval of frequencies of interest.\n",
    "    n_freqs=100,  # TFR frequency resolution.\n",
    "    time_before=4,  # Time in sec before the peak to use in TFR computation. Should be positive.\n",
    "    time_after=4,  # Time in sec after the peak to use in TFR computation.\n",
    "    method=\"morlet\",  # TFR method: 'morlet' or 'multitaper'.\n",
    "    save=True,  # Whether to save AverageTFR object per sleep stage as hdf5 file.\n",
    "    overwrite=False,  # Whether to overwrite existing files.\n",
    "    n_cycles=2,\n",
    ")\n",
    "\n",
    "slow_waves_pipe.tfrs"
   ]
  },
  {
   "cell_type": "code",
   "execution_count": null,
   "metadata": {
    "ExecuteTime": {
     "end_time": "2024-08-06T08:01:29.299247Z",
     "start_time": "2024-08-06T08:01:29.284782Z"
    }
   },
   "outputs": [],
   "source": [
    "slow_waves_pipe.tfrs[\"N2\"].data"
   ]
  },
  {
   "cell_type": "code",
   "execution_count": null,
   "metadata": {
    "ExecuteTime": {
     "end_time": "2024-08-06T08:01:32.325566Z",
     "start_time": "2024-08-06T08:01:32.312834Z"
    }
   },
   "outputs": [],
   "source": [
    "slow_waves_pipe.tfrs[\"N2\"].to_data_frame()"
   ]
  },
  {
   "cell_type": "code",
   "execution_count": null,
   "metadata": {
    "ExecuteTime": {
     "end_time": "2024-08-06T08:01:33.122977Z",
     "start_time": "2024-08-06T08:01:33.107985Z"
    }
   },
   "outputs": [],
   "source": [
    "slow_waves_pipe.tfrs[\"N2\"].plot([\"E101\"]),\n",
    "slow_waves_pipe.tfrs[\"N3\"].plot([\"E101\"])"
   ]
  },
  {
   "attachments": {},
   "cell_type": "markdown",
   "metadata": {},
   "source": [
    "If you want to load saved TFR files:"
   ]
  },
  {
   "cell_type": "code",
   "execution_count": null,
   "metadata": {
    "ExecuteTime": {
     "end_time": "2024-08-06T08:01:51.546381Z",
     "start_time": "2024-08-06T08:01:51.543318Z"
    }
   },
   "outputs": [],
   "source": [
    "slow_waves_pipe.read_tfrs(dirpath=None)"
   ]
  }
 ],
 "metadata": {
  "kernelspec": {
   "display_name": "Python 3",
   "language": "python",
   "name": "python3"
  },
  "language_info": {
   "codemirror_mode": {
    "name": "ipython",
    "version": 3
   },
   "file_extension": ".py",
   "mimetype": "text/x-python",
   "name": "python",
   "nbconvert_exporter": "python",
   "pygments_lexer": "ipython3",
   "version": "3.11.8"
  }
 },
 "nbformat": 4,
 "nbformat_minor": 4
}
